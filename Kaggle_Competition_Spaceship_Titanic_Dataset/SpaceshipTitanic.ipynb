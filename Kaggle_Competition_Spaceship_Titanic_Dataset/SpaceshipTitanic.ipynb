{
  "nbformat": 4,
  "nbformat_minor": 0,
  "metadata": {
    "colab": {
      "provenance": [],
      "mount_file_id": "1k3QyaD8Is_bt0ozQIrBc9VsazuoyfkaG",
      "authorship_tag": "ABX9TyN71zokxTyPbC/JG58qwn6d",
      "include_colab_link": true
    },
    "kernelspec": {
      "name": "python3",
      "display_name": "Python 3"
    },
    "language_info": {
      "name": "python"
    }
  },
  "cells": [
    {
      "cell_type": "markdown",
      "metadata": {
        "id": "view-in-github",
        "colab_type": "text"
      },
      "source": [
        "<a href=\"https://colab.research.google.com/github/kevvinnn/SpaceTitanicKaggle/blob/main/SpaceshipTitanic.ipynb\" target=\"_parent\"><img src=\"https://colab.research.google.com/assets/colab-badge.svg\" alt=\"Open In Colab\"/></a>"
      ]
    },
    {
      "cell_type": "code",
      "execution_count": 1,
      "metadata": {
        "id": "DViVOmPDP9s0"
      },
      "outputs": [],
      "source": [
        "import pandas as pd\n",
        "import numpy as np\n",
        "import matplotlib.pyplot as plt\n",
        "import seaborn as sns\n",
        "from sklearn.preprocessing import StandardScaler, OneHotEncoder\n",
        "from sklearn.pipeline import Pipeline\n",
        "from sklearn.impute import SimpleImputer\n",
        "from sklearn.compose import ColumnTransformer\n",
        "from sklearn.model_selection import train_test_split, GridSearchCV\n",
        "\n",
        "df = pd.read_csv('/content/drive/MyDrive/Colab Notebooks/trainSpaceTitanic.csv')"
      ]
    },
    {
      "cell_type": "code",
      "source": [
        "df.describe()"
      ],
      "metadata": {
        "colab": {
          "base_uri": "https://localhost:8080/",
          "height": 297
        },
        "id": "cU9JJVGKcCUq",
        "outputId": "896d9a49-353b-4513-f315-feac4aae8478"
      },
      "execution_count": 2,
      "outputs": [
        {
          "output_type": "execute_result",
          "data": {
            "text/plain": [
              "               Age   RoomService     FoodCourt  ShoppingMall           Spa  \\\n",
              "count  8514.000000   8512.000000   8510.000000   8485.000000   8510.000000   \n",
              "mean     28.827930    224.687617    458.077203    173.729169    311.138778   \n",
              "std      14.489021    666.717663   1611.489240    604.696458   1136.705535   \n",
              "min       0.000000      0.000000      0.000000      0.000000      0.000000   \n",
              "25%      19.000000      0.000000      0.000000      0.000000      0.000000   \n",
              "50%      27.000000      0.000000      0.000000      0.000000      0.000000   \n",
              "75%      38.000000     47.000000     76.000000     27.000000     59.000000   \n",
              "max      79.000000  14327.000000  29813.000000  23492.000000  22408.000000   \n",
              "\n",
              "             VRDeck  \n",
              "count   8505.000000  \n",
              "mean     304.854791  \n",
              "std     1145.717189  \n",
              "min        0.000000  \n",
              "25%        0.000000  \n",
              "50%        0.000000  \n",
              "75%       46.000000  \n",
              "max    24133.000000  "
            ],
            "text/html": [
              "\n",
              "  <div id=\"df-abe5bae6-b0d3-481d-a45a-542924b3d42b\" class=\"colab-df-container\">\n",
              "    <div>\n",
              "<style scoped>\n",
              "    .dataframe tbody tr th:only-of-type {\n",
              "        vertical-align: middle;\n",
              "    }\n",
              "\n",
              "    .dataframe tbody tr th {\n",
              "        vertical-align: top;\n",
              "    }\n",
              "\n",
              "    .dataframe thead th {\n",
              "        text-align: right;\n",
              "    }\n",
              "</style>\n",
              "<table border=\"1\" class=\"dataframe\">\n",
              "  <thead>\n",
              "    <tr style=\"text-align: right;\">\n",
              "      <th></th>\n",
              "      <th>Age</th>\n",
              "      <th>RoomService</th>\n",
              "      <th>FoodCourt</th>\n",
              "      <th>ShoppingMall</th>\n",
              "      <th>Spa</th>\n",
              "      <th>VRDeck</th>\n",
              "    </tr>\n",
              "  </thead>\n",
              "  <tbody>\n",
              "    <tr>\n",
              "      <th>count</th>\n",
              "      <td>8514.000000</td>\n",
              "      <td>8512.000000</td>\n",
              "      <td>8510.000000</td>\n",
              "      <td>8485.000000</td>\n",
              "      <td>8510.000000</td>\n",
              "      <td>8505.000000</td>\n",
              "    </tr>\n",
              "    <tr>\n",
              "      <th>mean</th>\n",
              "      <td>28.827930</td>\n",
              "      <td>224.687617</td>\n",
              "      <td>458.077203</td>\n",
              "      <td>173.729169</td>\n",
              "      <td>311.138778</td>\n",
              "      <td>304.854791</td>\n",
              "    </tr>\n",
              "    <tr>\n",
              "      <th>std</th>\n",
              "      <td>14.489021</td>\n",
              "      <td>666.717663</td>\n",
              "      <td>1611.489240</td>\n",
              "      <td>604.696458</td>\n",
              "      <td>1136.705535</td>\n",
              "      <td>1145.717189</td>\n",
              "    </tr>\n",
              "    <tr>\n",
              "      <th>min</th>\n",
              "      <td>0.000000</td>\n",
              "      <td>0.000000</td>\n",
              "      <td>0.000000</td>\n",
              "      <td>0.000000</td>\n",
              "      <td>0.000000</td>\n",
              "      <td>0.000000</td>\n",
              "    </tr>\n",
              "    <tr>\n",
              "      <th>25%</th>\n",
              "      <td>19.000000</td>\n",
              "      <td>0.000000</td>\n",
              "      <td>0.000000</td>\n",
              "      <td>0.000000</td>\n",
              "      <td>0.000000</td>\n",
              "      <td>0.000000</td>\n",
              "    </tr>\n",
              "    <tr>\n",
              "      <th>50%</th>\n",
              "      <td>27.000000</td>\n",
              "      <td>0.000000</td>\n",
              "      <td>0.000000</td>\n",
              "      <td>0.000000</td>\n",
              "      <td>0.000000</td>\n",
              "      <td>0.000000</td>\n",
              "    </tr>\n",
              "    <tr>\n",
              "      <th>75%</th>\n",
              "      <td>38.000000</td>\n",
              "      <td>47.000000</td>\n",
              "      <td>76.000000</td>\n",
              "      <td>27.000000</td>\n",
              "      <td>59.000000</td>\n",
              "      <td>46.000000</td>\n",
              "    </tr>\n",
              "    <tr>\n",
              "      <th>max</th>\n",
              "      <td>79.000000</td>\n",
              "      <td>14327.000000</td>\n",
              "      <td>29813.000000</td>\n",
              "      <td>23492.000000</td>\n",
              "      <td>22408.000000</td>\n",
              "      <td>24133.000000</td>\n",
              "    </tr>\n",
              "  </tbody>\n",
              "</table>\n",
              "</div>\n",
              "    <div class=\"colab-df-buttons\">\n",
              "\n",
              "  <div class=\"colab-df-container\">\n",
              "    <button class=\"colab-df-convert\" onclick=\"convertToInteractive('df-abe5bae6-b0d3-481d-a45a-542924b3d42b')\"\n",
              "            title=\"Convert this dataframe to an interactive table.\"\n",
              "            style=\"display:none;\">\n",
              "\n",
              "  <svg xmlns=\"http://www.w3.org/2000/svg\" height=\"24px\" viewBox=\"0 -960 960 960\">\n",
              "    <path d=\"M120-120v-720h720v720H120Zm60-500h600v-160H180v160Zm220 220h160v-160H400v160Zm0 220h160v-160H400v160ZM180-400h160v-160H180v160Zm440 0h160v-160H620v160ZM180-180h160v-160H180v160Zm440 0h160v-160H620v160Z\"/>\n",
              "  </svg>\n",
              "    </button>\n",
              "\n",
              "  <style>\n",
              "    .colab-df-container {\n",
              "      display:flex;\n",
              "      gap: 12px;\n",
              "    }\n",
              "\n",
              "    .colab-df-convert {\n",
              "      background-color: #E8F0FE;\n",
              "      border: none;\n",
              "      border-radius: 50%;\n",
              "      cursor: pointer;\n",
              "      display: none;\n",
              "      fill: #1967D2;\n",
              "      height: 32px;\n",
              "      padding: 0 0 0 0;\n",
              "      width: 32px;\n",
              "    }\n",
              "\n",
              "    .colab-df-convert:hover {\n",
              "      background-color: #E2EBFA;\n",
              "      box-shadow: 0px 1px 2px rgba(60, 64, 67, 0.3), 0px 1px 3px 1px rgba(60, 64, 67, 0.15);\n",
              "      fill: #174EA6;\n",
              "    }\n",
              "\n",
              "    .colab-df-buttons div {\n",
              "      margin-bottom: 4px;\n",
              "    }\n",
              "\n",
              "    [theme=dark] .colab-df-convert {\n",
              "      background-color: #3B4455;\n",
              "      fill: #D2E3FC;\n",
              "    }\n",
              "\n",
              "    [theme=dark] .colab-df-convert:hover {\n",
              "      background-color: #434B5C;\n",
              "      box-shadow: 0px 1px 3px 1px rgba(0, 0, 0, 0.15);\n",
              "      filter: drop-shadow(0px 1px 2px rgba(0, 0, 0, 0.3));\n",
              "      fill: #FFFFFF;\n",
              "    }\n",
              "  </style>\n",
              "\n",
              "    <script>\n",
              "      const buttonEl =\n",
              "        document.querySelector('#df-abe5bae6-b0d3-481d-a45a-542924b3d42b button.colab-df-convert');\n",
              "      buttonEl.style.display =\n",
              "        google.colab.kernel.accessAllowed ? 'block' : 'none';\n",
              "\n",
              "      async function convertToInteractive(key) {\n",
              "        const element = document.querySelector('#df-abe5bae6-b0d3-481d-a45a-542924b3d42b');\n",
              "        const dataTable =\n",
              "          await google.colab.kernel.invokeFunction('convertToInteractive',\n",
              "                                                    [key], {});\n",
              "        if (!dataTable) return;\n",
              "\n",
              "        const docLinkHtml = 'Like what you see? Visit the ' +\n",
              "          '<a target=\"_blank\" href=https://colab.research.google.com/notebooks/data_table.ipynb>data table notebook</a>'\n",
              "          + ' to learn more about interactive tables.';\n",
              "        element.innerHTML = '';\n",
              "        dataTable['output_type'] = 'display_data';\n",
              "        await google.colab.output.renderOutput(dataTable, element);\n",
              "        const docLink = document.createElement('div');\n",
              "        docLink.innerHTML = docLinkHtml;\n",
              "        element.appendChild(docLink);\n",
              "      }\n",
              "    </script>\n",
              "  </div>\n",
              "\n",
              "\n",
              "<div id=\"df-65818163-7c06-436e-8666-0fbca2fb1727\">\n",
              "  <button class=\"colab-df-quickchart\" onclick=\"quickchart('df-65818163-7c06-436e-8666-0fbca2fb1727')\"\n",
              "            title=\"Suggest charts\"\n",
              "            style=\"display:none;\">\n",
              "\n",
              "<svg xmlns=\"http://www.w3.org/2000/svg\" height=\"24px\"viewBox=\"0 0 24 24\"\n",
              "     width=\"24px\">\n",
              "    <g>\n",
              "        <path d=\"M19 3H5c-1.1 0-2 .9-2 2v14c0 1.1.9 2 2 2h14c1.1 0 2-.9 2-2V5c0-1.1-.9-2-2-2zM9 17H7v-7h2v7zm4 0h-2V7h2v10zm4 0h-2v-4h2v4z\"/>\n",
              "    </g>\n",
              "</svg>\n",
              "  </button>\n",
              "\n",
              "<style>\n",
              "  .colab-df-quickchart {\n",
              "      --bg-color: #E8F0FE;\n",
              "      --fill-color: #1967D2;\n",
              "      --hover-bg-color: #E2EBFA;\n",
              "      --hover-fill-color: #174EA6;\n",
              "      --disabled-fill-color: #AAA;\n",
              "      --disabled-bg-color: #DDD;\n",
              "  }\n",
              "\n",
              "  [theme=dark] .colab-df-quickchart {\n",
              "      --bg-color: #3B4455;\n",
              "      --fill-color: #D2E3FC;\n",
              "      --hover-bg-color: #434B5C;\n",
              "      --hover-fill-color: #FFFFFF;\n",
              "      --disabled-bg-color: #3B4455;\n",
              "      --disabled-fill-color: #666;\n",
              "  }\n",
              "\n",
              "  .colab-df-quickchart {\n",
              "    background-color: var(--bg-color);\n",
              "    border: none;\n",
              "    border-radius: 50%;\n",
              "    cursor: pointer;\n",
              "    display: none;\n",
              "    fill: var(--fill-color);\n",
              "    height: 32px;\n",
              "    padding: 0;\n",
              "    width: 32px;\n",
              "  }\n",
              "\n",
              "  .colab-df-quickchart:hover {\n",
              "    background-color: var(--hover-bg-color);\n",
              "    box-shadow: 0 1px 2px rgba(60, 64, 67, 0.3), 0 1px 3px 1px rgba(60, 64, 67, 0.15);\n",
              "    fill: var(--button-hover-fill-color);\n",
              "  }\n",
              "\n",
              "  .colab-df-quickchart-complete:disabled,\n",
              "  .colab-df-quickchart-complete:disabled:hover {\n",
              "    background-color: var(--disabled-bg-color);\n",
              "    fill: var(--disabled-fill-color);\n",
              "    box-shadow: none;\n",
              "  }\n",
              "\n",
              "  .colab-df-spinner {\n",
              "    border: 2px solid var(--fill-color);\n",
              "    border-color: transparent;\n",
              "    border-bottom-color: var(--fill-color);\n",
              "    animation:\n",
              "      spin 1s steps(1) infinite;\n",
              "  }\n",
              "\n",
              "  @keyframes spin {\n",
              "    0% {\n",
              "      border-color: transparent;\n",
              "      border-bottom-color: var(--fill-color);\n",
              "      border-left-color: var(--fill-color);\n",
              "    }\n",
              "    20% {\n",
              "      border-color: transparent;\n",
              "      border-left-color: var(--fill-color);\n",
              "      border-top-color: var(--fill-color);\n",
              "    }\n",
              "    30% {\n",
              "      border-color: transparent;\n",
              "      border-left-color: var(--fill-color);\n",
              "      border-top-color: var(--fill-color);\n",
              "      border-right-color: var(--fill-color);\n",
              "    }\n",
              "    40% {\n",
              "      border-color: transparent;\n",
              "      border-right-color: var(--fill-color);\n",
              "      border-top-color: var(--fill-color);\n",
              "    }\n",
              "    60% {\n",
              "      border-color: transparent;\n",
              "      border-right-color: var(--fill-color);\n",
              "    }\n",
              "    80% {\n",
              "      border-color: transparent;\n",
              "      border-right-color: var(--fill-color);\n",
              "      border-bottom-color: var(--fill-color);\n",
              "    }\n",
              "    90% {\n",
              "      border-color: transparent;\n",
              "      border-bottom-color: var(--fill-color);\n",
              "    }\n",
              "  }\n",
              "</style>\n",
              "\n",
              "  <script>\n",
              "    async function quickchart(key) {\n",
              "      const quickchartButtonEl =\n",
              "        document.querySelector('#' + key + ' button');\n",
              "      quickchartButtonEl.disabled = true;  // To prevent multiple clicks.\n",
              "      quickchartButtonEl.classList.add('colab-df-spinner');\n",
              "      try {\n",
              "        const charts = await google.colab.kernel.invokeFunction(\n",
              "            'suggestCharts', [key], {});\n",
              "      } catch (error) {\n",
              "        console.error('Error during call to suggestCharts:', error);\n",
              "      }\n",
              "      quickchartButtonEl.classList.remove('colab-df-spinner');\n",
              "      quickchartButtonEl.classList.add('colab-df-quickchart-complete');\n",
              "    }\n",
              "    (() => {\n",
              "      let quickchartButtonEl =\n",
              "        document.querySelector('#df-65818163-7c06-436e-8666-0fbca2fb1727 button');\n",
              "      quickchartButtonEl.style.display =\n",
              "        google.colab.kernel.accessAllowed ? 'block' : 'none';\n",
              "    })();\n",
              "  </script>\n",
              "</div>\n",
              "\n",
              "    </div>\n",
              "  </div>\n"
            ],
            "application/vnd.google.colaboratory.intrinsic+json": {
              "type": "dataframe",
              "summary": "{\n  \"name\": \"df\",\n  \"rows\": 8,\n  \"fields\": [\n    {\n      \"column\": \"Age\",\n      \"properties\": {\n        \"dtype\": \"number\",\n        \"std\": 2999.8219236109035,\n        \"min\": 0.0,\n        \"max\": 8514.0,\n        \"num_unique_values\": 8,\n        \"samples\": [\n          28.82793046746535,\n          27.0,\n          8514.0\n        ],\n        \"semantic_type\": \"\",\n        \"description\": \"\"\n      }\n    },\n    {\n      \"column\": \"RoomService\",\n      \"properties\": {\n        \"dtype\": \"number\",\n        \"std\": 5445.098106605418,\n        \"min\": 0.0,\n        \"max\": 14327.0,\n        \"num_unique_values\": 6,\n        \"samples\": [\n          8512.0,\n          224.687617481203,\n          14327.0\n        ],\n        \"semantic_type\": \"\",\n        \"description\": \"\"\n      }\n    },\n    {\n      \"column\": \"FoodCourt\",\n      \"properties\": {\n        \"dtype\": \"number\",\n        \"std\": 10415.198156989396,\n        \"min\": 0.0,\n        \"max\": 29813.0,\n        \"num_unique_values\": 6,\n        \"samples\": [\n          8510.0,\n          458.07720329024676,\n          29813.0\n        ],\n        \"semantic_type\": \"\",\n        \"description\": \"\"\n      }\n    },\n    {\n      \"column\": \"ShoppingMall\",\n      \"properties\": {\n        \"dtype\": \"number\",\n        \"std\": 8366.0020224504,\n        \"min\": 0.0,\n        \"max\": 23492.0,\n        \"num_unique_values\": 6,\n        \"samples\": [\n          8485.0,\n          173.72916912197996,\n          23492.0\n        ],\n        \"semantic_type\": \"\",\n        \"description\": \"\"\n      }\n    },\n    {\n      \"column\": \"Spa\",\n      \"properties\": {\n        \"dtype\": \"number\",\n        \"std\": 7968.775096084544,\n        \"min\": 0.0,\n        \"max\": 22408.0,\n        \"num_unique_values\": 6,\n        \"samples\": [\n          8510.0,\n          311.1387779083431,\n          22408.0\n        ],\n        \"semantic_type\": \"\",\n        \"description\": \"\"\n      }\n    },\n    {\n      \"column\": \"VRDeck\",\n      \"properties\": {\n        \"dtype\": \"number\",\n        \"std\": 8539.808535720747,\n        \"min\": 0.0,\n        \"max\": 24133.0,\n        \"num_unique_values\": 6,\n        \"samples\": [\n          8505.0,\n          304.8547912992357,\n          24133.0\n        ],\n        \"semantic_type\": \"\",\n        \"description\": \"\"\n      }\n    }\n  ]\n}"
            }
          },
          "metadata": {},
          "execution_count": 2
        }
      ]
    },
    {
      "cell_type": "code",
      "source": [
        "df.columns"
      ],
      "metadata": {
        "colab": {
          "base_uri": "https://localhost:8080/"
        },
        "id": "8se_wKLKcEnQ",
        "outputId": "f35849f1-60d7-4a82-ac02-a272a0b9f0f8"
      },
      "execution_count": 3,
      "outputs": [
        {
          "output_type": "execute_result",
          "data": {
            "text/plain": [
              "Index(['PassengerId', 'HomePlanet', 'CryoSleep', 'Cabin', 'Destination', 'Age',\n",
              "       'VIP', 'RoomService', 'FoodCourt', 'ShoppingMall', 'Spa', 'VRDeck',\n",
              "       'Name', 'Transported'],\n",
              "      dtype='object')"
            ]
          },
          "metadata": {},
          "execution_count": 3
        }
      ]
    },
    {
      "cell_type": "code",
      "source": [
        "df.info()"
      ],
      "metadata": {
        "colab": {
          "base_uri": "https://localhost:8080/"
        },
        "id": "cAR61EbRcXVB",
        "outputId": "9356d155-4a4b-4565-c422-3501404a1818"
      },
      "execution_count": 4,
      "outputs": [
        {
          "output_type": "stream",
          "name": "stdout",
          "text": [
            "<class 'pandas.core.frame.DataFrame'>\n",
            "RangeIndex: 8693 entries, 0 to 8692\n",
            "Data columns (total 14 columns):\n",
            " #   Column        Non-Null Count  Dtype  \n",
            "---  ------        --------------  -----  \n",
            " 0   PassengerId   8693 non-null   object \n",
            " 1   HomePlanet    8492 non-null   object \n",
            " 2   CryoSleep     8476 non-null   object \n",
            " 3   Cabin         8494 non-null   object \n",
            " 4   Destination   8511 non-null   object \n",
            " 5   Age           8514 non-null   float64\n",
            " 6   VIP           8490 non-null   object \n",
            " 7   RoomService   8512 non-null   float64\n",
            " 8   FoodCourt     8510 non-null   float64\n",
            " 9   ShoppingMall  8485 non-null   float64\n",
            " 10  Spa           8510 non-null   float64\n",
            " 11  VRDeck        8505 non-null   float64\n",
            " 12  Name          8493 non-null   object \n",
            " 13  Transported   8693 non-null   bool   \n",
            "dtypes: bool(1), float64(6), object(7)\n",
            "memory usage: 891.5+ KB\n"
          ]
        }
      ]
    },
    {
      "cell_type": "code",
      "source": [
        "df.head()"
      ],
      "metadata": {
        "colab": {
          "base_uri": "https://localhost:8080/",
          "height": 309
        },
        "id": "3YwT7kdPcYcH",
        "outputId": "d2fba066-9bde-41ec-e799-d0b9fc5e10ed"
      },
      "execution_count": 5,
      "outputs": [
        {
          "output_type": "execute_result",
          "data": {
            "text/plain": [
              "  PassengerId HomePlanet CryoSleep  Cabin  Destination   Age    VIP  \\\n",
              "0     0001_01     Europa     False  B/0/P  TRAPPIST-1e  39.0  False   \n",
              "1     0002_01      Earth     False  F/0/S  TRAPPIST-1e  24.0  False   \n",
              "2     0003_01     Europa     False  A/0/S  TRAPPIST-1e  58.0   True   \n",
              "3     0003_02     Europa     False  A/0/S  TRAPPIST-1e  33.0  False   \n",
              "4     0004_01      Earth     False  F/1/S  TRAPPIST-1e  16.0  False   \n",
              "\n",
              "   RoomService  FoodCourt  ShoppingMall     Spa  VRDeck               Name  \\\n",
              "0          0.0        0.0           0.0     0.0     0.0    Maham Ofracculy   \n",
              "1        109.0        9.0          25.0   549.0    44.0       Juanna Vines   \n",
              "2         43.0     3576.0           0.0  6715.0    49.0      Altark Susent   \n",
              "3          0.0     1283.0         371.0  3329.0   193.0       Solam Susent   \n",
              "4        303.0       70.0         151.0   565.0     2.0  Willy Santantines   \n",
              "\n",
              "   Transported  \n",
              "0        False  \n",
              "1         True  \n",
              "2        False  \n",
              "3        False  \n",
              "4         True  "
            ],
            "text/html": [
              "\n",
              "  <div id=\"df-ffcd5b82-7263-4377-bd7d-d025da0912ef\" class=\"colab-df-container\">\n",
              "    <div>\n",
              "<style scoped>\n",
              "    .dataframe tbody tr th:only-of-type {\n",
              "        vertical-align: middle;\n",
              "    }\n",
              "\n",
              "    .dataframe tbody tr th {\n",
              "        vertical-align: top;\n",
              "    }\n",
              "\n",
              "    .dataframe thead th {\n",
              "        text-align: right;\n",
              "    }\n",
              "</style>\n",
              "<table border=\"1\" class=\"dataframe\">\n",
              "  <thead>\n",
              "    <tr style=\"text-align: right;\">\n",
              "      <th></th>\n",
              "      <th>PassengerId</th>\n",
              "      <th>HomePlanet</th>\n",
              "      <th>CryoSleep</th>\n",
              "      <th>Cabin</th>\n",
              "      <th>Destination</th>\n",
              "      <th>Age</th>\n",
              "      <th>VIP</th>\n",
              "      <th>RoomService</th>\n",
              "      <th>FoodCourt</th>\n",
              "      <th>ShoppingMall</th>\n",
              "      <th>Spa</th>\n",
              "      <th>VRDeck</th>\n",
              "      <th>Name</th>\n",
              "      <th>Transported</th>\n",
              "    </tr>\n",
              "  </thead>\n",
              "  <tbody>\n",
              "    <tr>\n",
              "      <th>0</th>\n",
              "      <td>0001_01</td>\n",
              "      <td>Europa</td>\n",
              "      <td>False</td>\n",
              "      <td>B/0/P</td>\n",
              "      <td>TRAPPIST-1e</td>\n",
              "      <td>39.0</td>\n",
              "      <td>False</td>\n",
              "      <td>0.0</td>\n",
              "      <td>0.0</td>\n",
              "      <td>0.0</td>\n",
              "      <td>0.0</td>\n",
              "      <td>0.0</td>\n",
              "      <td>Maham Ofracculy</td>\n",
              "      <td>False</td>\n",
              "    </tr>\n",
              "    <tr>\n",
              "      <th>1</th>\n",
              "      <td>0002_01</td>\n",
              "      <td>Earth</td>\n",
              "      <td>False</td>\n",
              "      <td>F/0/S</td>\n",
              "      <td>TRAPPIST-1e</td>\n",
              "      <td>24.0</td>\n",
              "      <td>False</td>\n",
              "      <td>109.0</td>\n",
              "      <td>9.0</td>\n",
              "      <td>25.0</td>\n",
              "      <td>549.0</td>\n",
              "      <td>44.0</td>\n",
              "      <td>Juanna Vines</td>\n",
              "      <td>True</td>\n",
              "    </tr>\n",
              "    <tr>\n",
              "      <th>2</th>\n",
              "      <td>0003_01</td>\n",
              "      <td>Europa</td>\n",
              "      <td>False</td>\n",
              "      <td>A/0/S</td>\n",
              "      <td>TRAPPIST-1e</td>\n",
              "      <td>58.0</td>\n",
              "      <td>True</td>\n",
              "      <td>43.0</td>\n",
              "      <td>3576.0</td>\n",
              "      <td>0.0</td>\n",
              "      <td>6715.0</td>\n",
              "      <td>49.0</td>\n",
              "      <td>Altark Susent</td>\n",
              "      <td>False</td>\n",
              "    </tr>\n",
              "    <tr>\n",
              "      <th>3</th>\n",
              "      <td>0003_02</td>\n",
              "      <td>Europa</td>\n",
              "      <td>False</td>\n",
              "      <td>A/0/S</td>\n",
              "      <td>TRAPPIST-1e</td>\n",
              "      <td>33.0</td>\n",
              "      <td>False</td>\n",
              "      <td>0.0</td>\n",
              "      <td>1283.0</td>\n",
              "      <td>371.0</td>\n",
              "      <td>3329.0</td>\n",
              "      <td>193.0</td>\n",
              "      <td>Solam Susent</td>\n",
              "      <td>False</td>\n",
              "    </tr>\n",
              "    <tr>\n",
              "      <th>4</th>\n",
              "      <td>0004_01</td>\n",
              "      <td>Earth</td>\n",
              "      <td>False</td>\n",
              "      <td>F/1/S</td>\n",
              "      <td>TRAPPIST-1e</td>\n",
              "      <td>16.0</td>\n",
              "      <td>False</td>\n",
              "      <td>303.0</td>\n",
              "      <td>70.0</td>\n",
              "      <td>151.0</td>\n",
              "      <td>565.0</td>\n",
              "      <td>2.0</td>\n",
              "      <td>Willy Santantines</td>\n",
              "      <td>True</td>\n",
              "    </tr>\n",
              "  </tbody>\n",
              "</table>\n",
              "</div>\n",
              "    <div class=\"colab-df-buttons\">\n",
              "\n",
              "  <div class=\"colab-df-container\">\n",
              "    <button class=\"colab-df-convert\" onclick=\"convertToInteractive('df-ffcd5b82-7263-4377-bd7d-d025da0912ef')\"\n",
              "            title=\"Convert this dataframe to an interactive table.\"\n",
              "            style=\"display:none;\">\n",
              "\n",
              "  <svg xmlns=\"http://www.w3.org/2000/svg\" height=\"24px\" viewBox=\"0 -960 960 960\">\n",
              "    <path d=\"M120-120v-720h720v720H120Zm60-500h600v-160H180v160Zm220 220h160v-160H400v160Zm0 220h160v-160H400v160ZM180-400h160v-160H180v160Zm440 0h160v-160H620v160ZM180-180h160v-160H180v160Zm440 0h160v-160H620v160Z\"/>\n",
              "  </svg>\n",
              "    </button>\n",
              "\n",
              "  <style>\n",
              "    .colab-df-container {\n",
              "      display:flex;\n",
              "      gap: 12px;\n",
              "    }\n",
              "\n",
              "    .colab-df-convert {\n",
              "      background-color: #E8F0FE;\n",
              "      border: none;\n",
              "      border-radius: 50%;\n",
              "      cursor: pointer;\n",
              "      display: none;\n",
              "      fill: #1967D2;\n",
              "      height: 32px;\n",
              "      padding: 0 0 0 0;\n",
              "      width: 32px;\n",
              "    }\n",
              "\n",
              "    .colab-df-convert:hover {\n",
              "      background-color: #E2EBFA;\n",
              "      box-shadow: 0px 1px 2px rgba(60, 64, 67, 0.3), 0px 1px 3px 1px rgba(60, 64, 67, 0.15);\n",
              "      fill: #174EA6;\n",
              "    }\n",
              "\n",
              "    .colab-df-buttons div {\n",
              "      margin-bottom: 4px;\n",
              "    }\n",
              "\n",
              "    [theme=dark] .colab-df-convert {\n",
              "      background-color: #3B4455;\n",
              "      fill: #D2E3FC;\n",
              "    }\n",
              "\n",
              "    [theme=dark] .colab-df-convert:hover {\n",
              "      background-color: #434B5C;\n",
              "      box-shadow: 0px 1px 3px 1px rgba(0, 0, 0, 0.15);\n",
              "      filter: drop-shadow(0px 1px 2px rgba(0, 0, 0, 0.3));\n",
              "      fill: #FFFFFF;\n",
              "    }\n",
              "  </style>\n",
              "\n",
              "    <script>\n",
              "      const buttonEl =\n",
              "        document.querySelector('#df-ffcd5b82-7263-4377-bd7d-d025da0912ef button.colab-df-convert');\n",
              "      buttonEl.style.display =\n",
              "        google.colab.kernel.accessAllowed ? 'block' : 'none';\n",
              "\n",
              "      async function convertToInteractive(key) {\n",
              "        const element = document.querySelector('#df-ffcd5b82-7263-4377-bd7d-d025da0912ef');\n",
              "        const dataTable =\n",
              "          await google.colab.kernel.invokeFunction('convertToInteractive',\n",
              "                                                    [key], {});\n",
              "        if (!dataTable) return;\n",
              "\n",
              "        const docLinkHtml = 'Like what you see? Visit the ' +\n",
              "          '<a target=\"_blank\" href=https://colab.research.google.com/notebooks/data_table.ipynb>data table notebook</a>'\n",
              "          + ' to learn more about interactive tables.';\n",
              "        element.innerHTML = '';\n",
              "        dataTable['output_type'] = 'display_data';\n",
              "        await google.colab.output.renderOutput(dataTable, element);\n",
              "        const docLink = document.createElement('div');\n",
              "        docLink.innerHTML = docLinkHtml;\n",
              "        element.appendChild(docLink);\n",
              "      }\n",
              "    </script>\n",
              "  </div>\n",
              "\n",
              "\n",
              "<div id=\"df-863990ab-c0c7-45e4-8783-997841705d70\">\n",
              "  <button class=\"colab-df-quickchart\" onclick=\"quickchart('df-863990ab-c0c7-45e4-8783-997841705d70')\"\n",
              "            title=\"Suggest charts\"\n",
              "            style=\"display:none;\">\n",
              "\n",
              "<svg xmlns=\"http://www.w3.org/2000/svg\" height=\"24px\"viewBox=\"0 0 24 24\"\n",
              "     width=\"24px\">\n",
              "    <g>\n",
              "        <path d=\"M19 3H5c-1.1 0-2 .9-2 2v14c0 1.1.9 2 2 2h14c1.1 0 2-.9 2-2V5c0-1.1-.9-2-2-2zM9 17H7v-7h2v7zm4 0h-2V7h2v10zm4 0h-2v-4h2v4z\"/>\n",
              "    </g>\n",
              "</svg>\n",
              "  </button>\n",
              "\n",
              "<style>\n",
              "  .colab-df-quickchart {\n",
              "      --bg-color: #E8F0FE;\n",
              "      --fill-color: #1967D2;\n",
              "      --hover-bg-color: #E2EBFA;\n",
              "      --hover-fill-color: #174EA6;\n",
              "      --disabled-fill-color: #AAA;\n",
              "      --disabled-bg-color: #DDD;\n",
              "  }\n",
              "\n",
              "  [theme=dark] .colab-df-quickchart {\n",
              "      --bg-color: #3B4455;\n",
              "      --fill-color: #D2E3FC;\n",
              "      --hover-bg-color: #434B5C;\n",
              "      --hover-fill-color: #FFFFFF;\n",
              "      --disabled-bg-color: #3B4455;\n",
              "      --disabled-fill-color: #666;\n",
              "  }\n",
              "\n",
              "  .colab-df-quickchart {\n",
              "    background-color: var(--bg-color);\n",
              "    border: none;\n",
              "    border-radius: 50%;\n",
              "    cursor: pointer;\n",
              "    display: none;\n",
              "    fill: var(--fill-color);\n",
              "    height: 32px;\n",
              "    padding: 0;\n",
              "    width: 32px;\n",
              "  }\n",
              "\n",
              "  .colab-df-quickchart:hover {\n",
              "    background-color: var(--hover-bg-color);\n",
              "    box-shadow: 0 1px 2px rgba(60, 64, 67, 0.3), 0 1px 3px 1px rgba(60, 64, 67, 0.15);\n",
              "    fill: var(--button-hover-fill-color);\n",
              "  }\n",
              "\n",
              "  .colab-df-quickchart-complete:disabled,\n",
              "  .colab-df-quickchart-complete:disabled:hover {\n",
              "    background-color: var(--disabled-bg-color);\n",
              "    fill: var(--disabled-fill-color);\n",
              "    box-shadow: none;\n",
              "  }\n",
              "\n",
              "  .colab-df-spinner {\n",
              "    border: 2px solid var(--fill-color);\n",
              "    border-color: transparent;\n",
              "    border-bottom-color: var(--fill-color);\n",
              "    animation:\n",
              "      spin 1s steps(1) infinite;\n",
              "  }\n",
              "\n",
              "  @keyframes spin {\n",
              "    0% {\n",
              "      border-color: transparent;\n",
              "      border-bottom-color: var(--fill-color);\n",
              "      border-left-color: var(--fill-color);\n",
              "    }\n",
              "    20% {\n",
              "      border-color: transparent;\n",
              "      border-left-color: var(--fill-color);\n",
              "      border-top-color: var(--fill-color);\n",
              "    }\n",
              "    30% {\n",
              "      border-color: transparent;\n",
              "      border-left-color: var(--fill-color);\n",
              "      border-top-color: var(--fill-color);\n",
              "      border-right-color: var(--fill-color);\n",
              "    }\n",
              "    40% {\n",
              "      border-color: transparent;\n",
              "      border-right-color: var(--fill-color);\n",
              "      border-top-color: var(--fill-color);\n",
              "    }\n",
              "    60% {\n",
              "      border-color: transparent;\n",
              "      border-right-color: var(--fill-color);\n",
              "    }\n",
              "    80% {\n",
              "      border-color: transparent;\n",
              "      border-right-color: var(--fill-color);\n",
              "      border-bottom-color: var(--fill-color);\n",
              "    }\n",
              "    90% {\n",
              "      border-color: transparent;\n",
              "      border-bottom-color: var(--fill-color);\n",
              "    }\n",
              "  }\n",
              "</style>\n",
              "\n",
              "  <script>\n",
              "    async function quickchart(key) {\n",
              "      const quickchartButtonEl =\n",
              "        document.querySelector('#' + key + ' button');\n",
              "      quickchartButtonEl.disabled = true;  // To prevent multiple clicks.\n",
              "      quickchartButtonEl.classList.add('colab-df-spinner');\n",
              "      try {\n",
              "        const charts = await google.colab.kernel.invokeFunction(\n",
              "            'suggestCharts', [key], {});\n",
              "      } catch (error) {\n",
              "        console.error('Error during call to suggestCharts:', error);\n",
              "      }\n",
              "      quickchartButtonEl.classList.remove('colab-df-spinner');\n",
              "      quickchartButtonEl.classList.add('colab-df-quickchart-complete');\n",
              "    }\n",
              "    (() => {\n",
              "      let quickchartButtonEl =\n",
              "        document.querySelector('#df-863990ab-c0c7-45e4-8783-997841705d70 button');\n",
              "      quickchartButtonEl.style.display =\n",
              "        google.colab.kernel.accessAllowed ? 'block' : 'none';\n",
              "    })();\n",
              "  </script>\n",
              "</div>\n",
              "\n",
              "    </div>\n",
              "  </div>\n"
            ],
            "application/vnd.google.colaboratory.intrinsic+json": {
              "type": "dataframe",
              "variable_name": "df",
              "summary": "{\n  \"name\": \"df\",\n  \"rows\": 8693,\n  \"fields\": [\n    {\n      \"column\": \"PassengerId\",\n      \"properties\": {\n        \"dtype\": \"string\",\n        \"num_unique_values\": 8693,\n        \"samples\": [\n          \"0337_02\",\n          \"2891_01\",\n          \"8998_01\"\n        ],\n        \"semantic_type\": \"\",\n        \"description\": \"\"\n      }\n    },\n    {\n      \"column\": \"HomePlanet\",\n      \"properties\": {\n        \"dtype\": \"category\",\n        \"num_unique_values\": 3,\n        \"samples\": [\n          \"Europa\",\n          \"Earth\",\n          \"Mars\"\n        ],\n        \"semantic_type\": \"\",\n        \"description\": \"\"\n      }\n    },\n    {\n      \"column\": \"CryoSleep\",\n      \"properties\": {\n        \"dtype\": \"category\",\n        \"num_unique_values\": 2,\n        \"samples\": [\n          true,\n          false\n        ],\n        \"semantic_type\": \"\",\n        \"description\": \"\"\n      }\n    },\n    {\n      \"column\": \"Cabin\",\n      \"properties\": {\n        \"dtype\": \"string\",\n        \"num_unique_values\": 6560,\n        \"samples\": [\n          \"A/29/P\",\n          \"G/1452/P\"\n        ],\n        \"semantic_type\": \"\",\n        \"description\": \"\"\n      }\n    },\n    {\n      \"column\": \"Destination\",\n      \"properties\": {\n        \"dtype\": \"category\",\n        \"num_unique_values\": 3,\n        \"samples\": [\n          \"TRAPPIST-1e\",\n          \"PSO J318.5-22\"\n        ],\n        \"semantic_type\": \"\",\n        \"description\": \"\"\n      }\n    },\n    {\n      \"column\": \"Age\",\n      \"properties\": {\n        \"dtype\": \"number\",\n        \"std\": 14.48902142390878,\n        \"min\": 0.0,\n        \"max\": 79.0,\n        \"num_unique_values\": 80,\n        \"samples\": [\n          30.0,\n          39.0\n        ],\n        \"semantic_type\": \"\",\n        \"description\": \"\"\n      }\n    },\n    {\n      \"column\": \"VIP\",\n      \"properties\": {\n        \"dtype\": \"category\",\n        \"num_unique_values\": 2,\n        \"samples\": [\n          true,\n          false\n        ],\n        \"semantic_type\": \"\",\n        \"description\": \"\"\n      }\n    },\n    {\n      \"column\": \"RoomService\",\n      \"properties\": {\n        \"dtype\": \"number\",\n        \"std\": 666.7176629280652,\n        \"min\": 0.0,\n        \"max\": 14327.0,\n        \"num_unique_values\": 1273,\n        \"samples\": [\n          2103.0,\n          1720.0\n        ],\n        \"semantic_type\": \"\",\n        \"description\": \"\"\n      }\n    },\n    {\n      \"column\": \"FoodCourt\",\n      \"properties\": {\n        \"dtype\": \"number\",\n        \"std\": 1611.4892403550716,\n        \"min\": 0.0,\n        \"max\": 29813.0,\n        \"num_unique_values\": 1507,\n        \"samples\": [\n          61.0,\n          783.0\n        ],\n        \"semantic_type\": \"\",\n        \"description\": \"\"\n      }\n    },\n    {\n      \"column\": \"ShoppingMall\",\n      \"properties\": {\n        \"dtype\": \"number\",\n        \"std\": 604.6964584708243,\n        \"min\": 0.0,\n        \"max\": 23492.0,\n        \"num_unique_values\": 1115,\n        \"samples\": [\n          619.0,\n          356.0\n        ],\n        \"semantic_type\": \"\",\n        \"description\": \"\"\n      }\n    },\n    {\n      \"column\": \"Spa\",\n      \"properties\": {\n        \"dtype\": \"number\",\n        \"std\": 1136.7055348344065,\n        \"min\": 0.0,\n        \"max\": 22408.0,\n        \"num_unique_values\": 1327,\n        \"samples\": [\n          190.0,\n          622.0\n        ],\n        \"semantic_type\": \"\",\n        \"description\": \"\"\n      }\n    },\n    {\n      \"column\": \"VRDeck\",\n      \"properties\": {\n        \"dtype\": \"number\",\n        \"std\": 1145.7171888056614,\n        \"min\": 0.0,\n        \"max\": 24133.0,\n        \"num_unique_values\": 1306,\n        \"samples\": [\n          977.0,\n          624.0\n        ],\n        \"semantic_type\": \"\",\n        \"description\": \"\"\n      }\n    },\n    {\n      \"column\": \"Name\",\n      \"properties\": {\n        \"dtype\": \"string\",\n        \"num_unique_values\": 8473,\n        \"samples\": [\n          \"Nancey Bookerson\",\n          \"Nelly Benney\"\n        ],\n        \"semantic_type\": \"\",\n        \"description\": \"\"\n      }\n    },\n    {\n      \"column\": \"Transported\",\n      \"properties\": {\n        \"dtype\": \"boolean\",\n        \"num_unique_values\": 2,\n        \"samples\": [\n          true,\n          false\n        ],\n        \"semantic_type\": \"\",\n        \"description\": \"\"\n      }\n    }\n  ]\n}"
            }
          },
          "metadata": {},
          "execution_count": 5
        }
      ]
    },
    {
      "cell_type": "code",
      "source": [
        "numerical_features = df.select_dtypes(include=[np.number])\n",
        "categorical_features = df.select_dtypes(include=[object])\n",
        "bool_features = df.select_dtypes(include=[bool])"
      ],
      "metadata": {
        "id": "pKuYMcyYcdC7"
      },
      "execution_count": 6,
      "outputs": []
    },
    {
      "cell_type": "code",
      "source": [
        "numerical_features.head()"
      ],
      "metadata": {
        "colab": {
          "base_uri": "https://localhost:8080/",
          "height": 204
        },
        "id": "FSvsBa5Gc7AP",
        "outputId": "da45e91b-5865-4be0-a256-03e251a325b8"
      },
      "execution_count": 7,
      "outputs": [
        {
          "output_type": "execute_result",
          "data": {
            "text/plain": [
              "    Age  RoomService  FoodCourt  ShoppingMall     Spa  VRDeck\n",
              "0  39.0          0.0        0.0           0.0     0.0     0.0\n",
              "1  24.0        109.0        9.0          25.0   549.0    44.0\n",
              "2  58.0         43.0     3576.0           0.0  6715.0    49.0\n",
              "3  33.0          0.0     1283.0         371.0  3329.0   193.0\n",
              "4  16.0        303.0       70.0         151.0   565.0     2.0"
            ],
            "text/html": [
              "\n",
              "  <div id=\"df-267b89f4-4826-4725-b342-f4ed4b9de300\" class=\"colab-df-container\">\n",
              "    <div>\n",
              "<style scoped>\n",
              "    .dataframe tbody tr th:only-of-type {\n",
              "        vertical-align: middle;\n",
              "    }\n",
              "\n",
              "    .dataframe tbody tr th {\n",
              "        vertical-align: top;\n",
              "    }\n",
              "\n",
              "    .dataframe thead th {\n",
              "        text-align: right;\n",
              "    }\n",
              "</style>\n",
              "<table border=\"1\" class=\"dataframe\">\n",
              "  <thead>\n",
              "    <tr style=\"text-align: right;\">\n",
              "      <th></th>\n",
              "      <th>Age</th>\n",
              "      <th>RoomService</th>\n",
              "      <th>FoodCourt</th>\n",
              "      <th>ShoppingMall</th>\n",
              "      <th>Spa</th>\n",
              "      <th>VRDeck</th>\n",
              "    </tr>\n",
              "  </thead>\n",
              "  <tbody>\n",
              "    <tr>\n",
              "      <th>0</th>\n",
              "      <td>39.0</td>\n",
              "      <td>0.0</td>\n",
              "      <td>0.0</td>\n",
              "      <td>0.0</td>\n",
              "      <td>0.0</td>\n",
              "      <td>0.0</td>\n",
              "    </tr>\n",
              "    <tr>\n",
              "      <th>1</th>\n",
              "      <td>24.0</td>\n",
              "      <td>109.0</td>\n",
              "      <td>9.0</td>\n",
              "      <td>25.0</td>\n",
              "      <td>549.0</td>\n",
              "      <td>44.0</td>\n",
              "    </tr>\n",
              "    <tr>\n",
              "      <th>2</th>\n",
              "      <td>58.0</td>\n",
              "      <td>43.0</td>\n",
              "      <td>3576.0</td>\n",
              "      <td>0.0</td>\n",
              "      <td>6715.0</td>\n",
              "      <td>49.0</td>\n",
              "    </tr>\n",
              "    <tr>\n",
              "      <th>3</th>\n",
              "      <td>33.0</td>\n",
              "      <td>0.0</td>\n",
              "      <td>1283.0</td>\n",
              "      <td>371.0</td>\n",
              "      <td>3329.0</td>\n",
              "      <td>193.0</td>\n",
              "    </tr>\n",
              "    <tr>\n",
              "      <th>4</th>\n",
              "      <td>16.0</td>\n",
              "      <td>303.0</td>\n",
              "      <td>70.0</td>\n",
              "      <td>151.0</td>\n",
              "      <td>565.0</td>\n",
              "      <td>2.0</td>\n",
              "    </tr>\n",
              "  </tbody>\n",
              "</table>\n",
              "</div>\n",
              "    <div class=\"colab-df-buttons\">\n",
              "\n",
              "  <div class=\"colab-df-container\">\n",
              "    <button class=\"colab-df-convert\" onclick=\"convertToInteractive('df-267b89f4-4826-4725-b342-f4ed4b9de300')\"\n",
              "            title=\"Convert this dataframe to an interactive table.\"\n",
              "            style=\"display:none;\">\n",
              "\n",
              "  <svg xmlns=\"http://www.w3.org/2000/svg\" height=\"24px\" viewBox=\"0 -960 960 960\">\n",
              "    <path d=\"M120-120v-720h720v720H120Zm60-500h600v-160H180v160Zm220 220h160v-160H400v160Zm0 220h160v-160H400v160ZM180-400h160v-160H180v160Zm440 0h160v-160H620v160ZM180-180h160v-160H180v160Zm440 0h160v-160H620v160Z\"/>\n",
              "  </svg>\n",
              "    </button>\n",
              "\n",
              "  <style>\n",
              "    .colab-df-container {\n",
              "      display:flex;\n",
              "      gap: 12px;\n",
              "    }\n",
              "\n",
              "    .colab-df-convert {\n",
              "      background-color: #E8F0FE;\n",
              "      border: none;\n",
              "      border-radius: 50%;\n",
              "      cursor: pointer;\n",
              "      display: none;\n",
              "      fill: #1967D2;\n",
              "      height: 32px;\n",
              "      padding: 0 0 0 0;\n",
              "      width: 32px;\n",
              "    }\n",
              "\n",
              "    .colab-df-convert:hover {\n",
              "      background-color: #E2EBFA;\n",
              "      box-shadow: 0px 1px 2px rgba(60, 64, 67, 0.3), 0px 1px 3px 1px rgba(60, 64, 67, 0.15);\n",
              "      fill: #174EA6;\n",
              "    }\n",
              "\n",
              "    .colab-df-buttons div {\n",
              "      margin-bottom: 4px;\n",
              "    }\n",
              "\n",
              "    [theme=dark] .colab-df-convert {\n",
              "      background-color: #3B4455;\n",
              "      fill: #D2E3FC;\n",
              "    }\n",
              "\n",
              "    [theme=dark] .colab-df-convert:hover {\n",
              "      background-color: #434B5C;\n",
              "      box-shadow: 0px 1px 3px 1px rgba(0, 0, 0, 0.15);\n",
              "      filter: drop-shadow(0px 1px 2px rgba(0, 0, 0, 0.3));\n",
              "      fill: #FFFFFF;\n",
              "    }\n",
              "  </style>\n",
              "\n",
              "    <script>\n",
              "      const buttonEl =\n",
              "        document.querySelector('#df-267b89f4-4826-4725-b342-f4ed4b9de300 button.colab-df-convert');\n",
              "      buttonEl.style.display =\n",
              "        google.colab.kernel.accessAllowed ? 'block' : 'none';\n",
              "\n",
              "      async function convertToInteractive(key) {\n",
              "        const element = document.querySelector('#df-267b89f4-4826-4725-b342-f4ed4b9de300');\n",
              "        const dataTable =\n",
              "          await google.colab.kernel.invokeFunction('convertToInteractive',\n",
              "                                                    [key], {});\n",
              "        if (!dataTable) return;\n",
              "\n",
              "        const docLinkHtml = 'Like what you see? Visit the ' +\n",
              "          '<a target=\"_blank\" href=https://colab.research.google.com/notebooks/data_table.ipynb>data table notebook</a>'\n",
              "          + ' to learn more about interactive tables.';\n",
              "        element.innerHTML = '';\n",
              "        dataTable['output_type'] = 'display_data';\n",
              "        await google.colab.output.renderOutput(dataTable, element);\n",
              "        const docLink = document.createElement('div');\n",
              "        docLink.innerHTML = docLinkHtml;\n",
              "        element.appendChild(docLink);\n",
              "      }\n",
              "    </script>\n",
              "  </div>\n",
              "\n",
              "\n",
              "<div id=\"df-d3dd8bdf-0c58-41fc-a8ae-ba627ba00014\">\n",
              "  <button class=\"colab-df-quickchart\" onclick=\"quickchart('df-d3dd8bdf-0c58-41fc-a8ae-ba627ba00014')\"\n",
              "            title=\"Suggest charts\"\n",
              "            style=\"display:none;\">\n",
              "\n",
              "<svg xmlns=\"http://www.w3.org/2000/svg\" height=\"24px\"viewBox=\"0 0 24 24\"\n",
              "     width=\"24px\">\n",
              "    <g>\n",
              "        <path d=\"M19 3H5c-1.1 0-2 .9-2 2v14c0 1.1.9 2 2 2h14c1.1 0 2-.9 2-2V5c0-1.1-.9-2-2-2zM9 17H7v-7h2v7zm4 0h-2V7h2v10zm4 0h-2v-4h2v4z\"/>\n",
              "    </g>\n",
              "</svg>\n",
              "  </button>\n",
              "\n",
              "<style>\n",
              "  .colab-df-quickchart {\n",
              "      --bg-color: #E8F0FE;\n",
              "      --fill-color: #1967D2;\n",
              "      --hover-bg-color: #E2EBFA;\n",
              "      --hover-fill-color: #174EA6;\n",
              "      --disabled-fill-color: #AAA;\n",
              "      --disabled-bg-color: #DDD;\n",
              "  }\n",
              "\n",
              "  [theme=dark] .colab-df-quickchart {\n",
              "      --bg-color: #3B4455;\n",
              "      --fill-color: #D2E3FC;\n",
              "      --hover-bg-color: #434B5C;\n",
              "      --hover-fill-color: #FFFFFF;\n",
              "      --disabled-bg-color: #3B4455;\n",
              "      --disabled-fill-color: #666;\n",
              "  }\n",
              "\n",
              "  .colab-df-quickchart {\n",
              "    background-color: var(--bg-color);\n",
              "    border: none;\n",
              "    border-radius: 50%;\n",
              "    cursor: pointer;\n",
              "    display: none;\n",
              "    fill: var(--fill-color);\n",
              "    height: 32px;\n",
              "    padding: 0;\n",
              "    width: 32px;\n",
              "  }\n",
              "\n",
              "  .colab-df-quickchart:hover {\n",
              "    background-color: var(--hover-bg-color);\n",
              "    box-shadow: 0 1px 2px rgba(60, 64, 67, 0.3), 0 1px 3px 1px rgba(60, 64, 67, 0.15);\n",
              "    fill: var(--button-hover-fill-color);\n",
              "  }\n",
              "\n",
              "  .colab-df-quickchart-complete:disabled,\n",
              "  .colab-df-quickchart-complete:disabled:hover {\n",
              "    background-color: var(--disabled-bg-color);\n",
              "    fill: var(--disabled-fill-color);\n",
              "    box-shadow: none;\n",
              "  }\n",
              "\n",
              "  .colab-df-spinner {\n",
              "    border: 2px solid var(--fill-color);\n",
              "    border-color: transparent;\n",
              "    border-bottom-color: var(--fill-color);\n",
              "    animation:\n",
              "      spin 1s steps(1) infinite;\n",
              "  }\n",
              "\n",
              "  @keyframes spin {\n",
              "    0% {\n",
              "      border-color: transparent;\n",
              "      border-bottom-color: var(--fill-color);\n",
              "      border-left-color: var(--fill-color);\n",
              "    }\n",
              "    20% {\n",
              "      border-color: transparent;\n",
              "      border-left-color: var(--fill-color);\n",
              "      border-top-color: var(--fill-color);\n",
              "    }\n",
              "    30% {\n",
              "      border-color: transparent;\n",
              "      border-left-color: var(--fill-color);\n",
              "      border-top-color: var(--fill-color);\n",
              "      border-right-color: var(--fill-color);\n",
              "    }\n",
              "    40% {\n",
              "      border-color: transparent;\n",
              "      border-right-color: var(--fill-color);\n",
              "      border-top-color: var(--fill-color);\n",
              "    }\n",
              "    60% {\n",
              "      border-color: transparent;\n",
              "      border-right-color: var(--fill-color);\n",
              "    }\n",
              "    80% {\n",
              "      border-color: transparent;\n",
              "      border-right-color: var(--fill-color);\n",
              "      border-bottom-color: var(--fill-color);\n",
              "    }\n",
              "    90% {\n",
              "      border-color: transparent;\n",
              "      border-bottom-color: var(--fill-color);\n",
              "    }\n",
              "  }\n",
              "</style>\n",
              "\n",
              "  <script>\n",
              "    async function quickchart(key) {\n",
              "      const quickchartButtonEl =\n",
              "        document.querySelector('#' + key + ' button');\n",
              "      quickchartButtonEl.disabled = true;  // To prevent multiple clicks.\n",
              "      quickchartButtonEl.classList.add('colab-df-spinner');\n",
              "      try {\n",
              "        const charts = await google.colab.kernel.invokeFunction(\n",
              "            'suggestCharts', [key], {});\n",
              "      } catch (error) {\n",
              "        console.error('Error during call to suggestCharts:', error);\n",
              "      }\n",
              "      quickchartButtonEl.classList.remove('colab-df-spinner');\n",
              "      quickchartButtonEl.classList.add('colab-df-quickchart-complete');\n",
              "    }\n",
              "    (() => {\n",
              "      let quickchartButtonEl =\n",
              "        document.querySelector('#df-d3dd8bdf-0c58-41fc-a8ae-ba627ba00014 button');\n",
              "      quickchartButtonEl.style.display =\n",
              "        google.colab.kernel.accessAllowed ? 'block' : 'none';\n",
              "    })();\n",
              "  </script>\n",
              "</div>\n",
              "\n",
              "    </div>\n",
              "  </div>\n"
            ],
            "application/vnd.google.colaboratory.intrinsic+json": {
              "type": "dataframe",
              "variable_name": "numerical_features",
              "summary": "{\n  \"name\": \"numerical_features\",\n  \"rows\": 8693,\n  \"fields\": [\n    {\n      \"column\": \"Age\",\n      \"properties\": {\n        \"dtype\": \"number\",\n        \"std\": 14.48902142390878,\n        \"min\": 0.0,\n        \"max\": 79.0,\n        \"num_unique_values\": 80,\n        \"samples\": [\n          30.0,\n          39.0,\n          21.0\n        ],\n        \"semantic_type\": \"\",\n        \"description\": \"\"\n      }\n    },\n    {\n      \"column\": \"RoomService\",\n      \"properties\": {\n        \"dtype\": \"number\",\n        \"std\": 666.7176629280652,\n        \"min\": 0.0,\n        \"max\": 14327.0,\n        \"num_unique_values\": 1273,\n        \"samples\": [\n          2103.0,\n          1720.0,\n          5.0\n        ],\n        \"semantic_type\": \"\",\n        \"description\": \"\"\n      }\n    },\n    {\n      \"column\": \"FoodCourt\",\n      \"properties\": {\n        \"dtype\": \"number\",\n        \"std\": 1611.4892403550716,\n        \"min\": 0.0,\n        \"max\": 29813.0,\n        \"num_unique_values\": 1507,\n        \"samples\": [\n          61.0,\n          783.0,\n          3621.0\n        ],\n        \"semantic_type\": \"\",\n        \"description\": \"\"\n      }\n    },\n    {\n      \"column\": \"ShoppingMall\",\n      \"properties\": {\n        \"dtype\": \"number\",\n        \"std\": 604.6964584708243,\n        \"min\": 0.0,\n        \"max\": 23492.0,\n        \"num_unique_values\": 1115,\n        \"samples\": [\n          619.0,\n          356.0,\n          1008.0\n        ],\n        \"semantic_type\": \"\",\n        \"description\": \"\"\n      }\n    },\n    {\n      \"column\": \"Spa\",\n      \"properties\": {\n        \"dtype\": \"number\",\n        \"std\": 1136.7055348344065,\n        \"min\": 0.0,\n        \"max\": 22408.0,\n        \"num_unique_values\": 1327,\n        \"samples\": [\n          190.0,\n          622.0,\n          90.0\n        ],\n        \"semantic_type\": \"\",\n        \"description\": \"\"\n      }\n    },\n    {\n      \"column\": \"VRDeck\",\n      \"properties\": {\n        \"dtype\": \"number\",\n        \"std\": 1145.7171888056614,\n        \"min\": 0.0,\n        \"max\": 24133.0,\n        \"num_unique_values\": 1306,\n        \"samples\": [\n          977.0,\n          624.0,\n          3880.0\n        ],\n        \"semantic_type\": \"\",\n        \"description\": \"\"\n      }\n    }\n  ]\n}"
            }
          },
          "metadata": {},
          "execution_count": 7
        }
      ]
    },
    {
      "cell_type": "code",
      "source": [
        "categorical_features.head()"
      ],
      "metadata": {
        "colab": {
          "base_uri": "https://localhost:8080/",
          "height": 204
        },
        "id": "HmVdPRDKdBAB",
        "outputId": "f129c107-72c0-46fc-a9cf-6afcec0a827e"
      },
      "execution_count": 8,
      "outputs": [
        {
          "output_type": "execute_result",
          "data": {
            "text/plain": [
              "  PassengerId HomePlanet CryoSleep  Cabin  Destination    VIP  \\\n",
              "0     0001_01     Europa     False  B/0/P  TRAPPIST-1e  False   \n",
              "1     0002_01      Earth     False  F/0/S  TRAPPIST-1e  False   \n",
              "2     0003_01     Europa     False  A/0/S  TRAPPIST-1e   True   \n",
              "3     0003_02     Europa     False  A/0/S  TRAPPIST-1e  False   \n",
              "4     0004_01      Earth     False  F/1/S  TRAPPIST-1e  False   \n",
              "\n",
              "                Name  \n",
              "0    Maham Ofracculy  \n",
              "1       Juanna Vines  \n",
              "2      Altark Susent  \n",
              "3       Solam Susent  \n",
              "4  Willy Santantines  "
            ],
            "text/html": [
              "\n",
              "  <div id=\"df-8cec4ad7-c54e-494d-8c90-7b380719045f\" class=\"colab-df-container\">\n",
              "    <div>\n",
              "<style scoped>\n",
              "    .dataframe tbody tr th:only-of-type {\n",
              "        vertical-align: middle;\n",
              "    }\n",
              "\n",
              "    .dataframe tbody tr th {\n",
              "        vertical-align: top;\n",
              "    }\n",
              "\n",
              "    .dataframe thead th {\n",
              "        text-align: right;\n",
              "    }\n",
              "</style>\n",
              "<table border=\"1\" class=\"dataframe\">\n",
              "  <thead>\n",
              "    <tr style=\"text-align: right;\">\n",
              "      <th></th>\n",
              "      <th>PassengerId</th>\n",
              "      <th>HomePlanet</th>\n",
              "      <th>CryoSleep</th>\n",
              "      <th>Cabin</th>\n",
              "      <th>Destination</th>\n",
              "      <th>VIP</th>\n",
              "      <th>Name</th>\n",
              "    </tr>\n",
              "  </thead>\n",
              "  <tbody>\n",
              "    <tr>\n",
              "      <th>0</th>\n",
              "      <td>0001_01</td>\n",
              "      <td>Europa</td>\n",
              "      <td>False</td>\n",
              "      <td>B/0/P</td>\n",
              "      <td>TRAPPIST-1e</td>\n",
              "      <td>False</td>\n",
              "      <td>Maham Ofracculy</td>\n",
              "    </tr>\n",
              "    <tr>\n",
              "      <th>1</th>\n",
              "      <td>0002_01</td>\n",
              "      <td>Earth</td>\n",
              "      <td>False</td>\n",
              "      <td>F/0/S</td>\n",
              "      <td>TRAPPIST-1e</td>\n",
              "      <td>False</td>\n",
              "      <td>Juanna Vines</td>\n",
              "    </tr>\n",
              "    <tr>\n",
              "      <th>2</th>\n",
              "      <td>0003_01</td>\n",
              "      <td>Europa</td>\n",
              "      <td>False</td>\n",
              "      <td>A/0/S</td>\n",
              "      <td>TRAPPIST-1e</td>\n",
              "      <td>True</td>\n",
              "      <td>Altark Susent</td>\n",
              "    </tr>\n",
              "    <tr>\n",
              "      <th>3</th>\n",
              "      <td>0003_02</td>\n",
              "      <td>Europa</td>\n",
              "      <td>False</td>\n",
              "      <td>A/0/S</td>\n",
              "      <td>TRAPPIST-1e</td>\n",
              "      <td>False</td>\n",
              "      <td>Solam Susent</td>\n",
              "    </tr>\n",
              "    <tr>\n",
              "      <th>4</th>\n",
              "      <td>0004_01</td>\n",
              "      <td>Earth</td>\n",
              "      <td>False</td>\n",
              "      <td>F/1/S</td>\n",
              "      <td>TRAPPIST-1e</td>\n",
              "      <td>False</td>\n",
              "      <td>Willy Santantines</td>\n",
              "    </tr>\n",
              "  </tbody>\n",
              "</table>\n",
              "</div>\n",
              "    <div class=\"colab-df-buttons\">\n",
              "\n",
              "  <div class=\"colab-df-container\">\n",
              "    <button class=\"colab-df-convert\" onclick=\"convertToInteractive('df-8cec4ad7-c54e-494d-8c90-7b380719045f')\"\n",
              "            title=\"Convert this dataframe to an interactive table.\"\n",
              "            style=\"display:none;\">\n",
              "\n",
              "  <svg xmlns=\"http://www.w3.org/2000/svg\" height=\"24px\" viewBox=\"0 -960 960 960\">\n",
              "    <path d=\"M120-120v-720h720v720H120Zm60-500h600v-160H180v160Zm220 220h160v-160H400v160Zm0 220h160v-160H400v160ZM180-400h160v-160H180v160Zm440 0h160v-160H620v160ZM180-180h160v-160H180v160Zm440 0h160v-160H620v160Z\"/>\n",
              "  </svg>\n",
              "    </button>\n",
              "\n",
              "  <style>\n",
              "    .colab-df-container {\n",
              "      display:flex;\n",
              "      gap: 12px;\n",
              "    }\n",
              "\n",
              "    .colab-df-convert {\n",
              "      background-color: #E8F0FE;\n",
              "      border: none;\n",
              "      border-radius: 50%;\n",
              "      cursor: pointer;\n",
              "      display: none;\n",
              "      fill: #1967D2;\n",
              "      height: 32px;\n",
              "      padding: 0 0 0 0;\n",
              "      width: 32px;\n",
              "    }\n",
              "\n",
              "    .colab-df-convert:hover {\n",
              "      background-color: #E2EBFA;\n",
              "      box-shadow: 0px 1px 2px rgba(60, 64, 67, 0.3), 0px 1px 3px 1px rgba(60, 64, 67, 0.15);\n",
              "      fill: #174EA6;\n",
              "    }\n",
              "\n",
              "    .colab-df-buttons div {\n",
              "      margin-bottom: 4px;\n",
              "    }\n",
              "\n",
              "    [theme=dark] .colab-df-convert {\n",
              "      background-color: #3B4455;\n",
              "      fill: #D2E3FC;\n",
              "    }\n",
              "\n",
              "    [theme=dark] .colab-df-convert:hover {\n",
              "      background-color: #434B5C;\n",
              "      box-shadow: 0px 1px 3px 1px rgba(0, 0, 0, 0.15);\n",
              "      filter: drop-shadow(0px 1px 2px rgba(0, 0, 0, 0.3));\n",
              "      fill: #FFFFFF;\n",
              "    }\n",
              "  </style>\n",
              "\n",
              "    <script>\n",
              "      const buttonEl =\n",
              "        document.querySelector('#df-8cec4ad7-c54e-494d-8c90-7b380719045f button.colab-df-convert');\n",
              "      buttonEl.style.display =\n",
              "        google.colab.kernel.accessAllowed ? 'block' : 'none';\n",
              "\n",
              "      async function convertToInteractive(key) {\n",
              "        const element = document.querySelector('#df-8cec4ad7-c54e-494d-8c90-7b380719045f');\n",
              "        const dataTable =\n",
              "          await google.colab.kernel.invokeFunction('convertToInteractive',\n",
              "                                                    [key], {});\n",
              "        if (!dataTable) return;\n",
              "\n",
              "        const docLinkHtml = 'Like what you see? Visit the ' +\n",
              "          '<a target=\"_blank\" href=https://colab.research.google.com/notebooks/data_table.ipynb>data table notebook</a>'\n",
              "          + ' to learn more about interactive tables.';\n",
              "        element.innerHTML = '';\n",
              "        dataTable['output_type'] = 'display_data';\n",
              "        await google.colab.output.renderOutput(dataTable, element);\n",
              "        const docLink = document.createElement('div');\n",
              "        docLink.innerHTML = docLinkHtml;\n",
              "        element.appendChild(docLink);\n",
              "      }\n",
              "    </script>\n",
              "  </div>\n",
              "\n",
              "\n",
              "<div id=\"df-37230194-a927-4de9-a966-13719064c97e\">\n",
              "  <button class=\"colab-df-quickchart\" onclick=\"quickchart('df-37230194-a927-4de9-a966-13719064c97e')\"\n",
              "            title=\"Suggest charts\"\n",
              "            style=\"display:none;\">\n",
              "\n",
              "<svg xmlns=\"http://www.w3.org/2000/svg\" height=\"24px\"viewBox=\"0 0 24 24\"\n",
              "     width=\"24px\">\n",
              "    <g>\n",
              "        <path d=\"M19 3H5c-1.1 0-2 .9-2 2v14c0 1.1.9 2 2 2h14c1.1 0 2-.9 2-2V5c0-1.1-.9-2-2-2zM9 17H7v-7h2v7zm4 0h-2V7h2v10zm4 0h-2v-4h2v4z\"/>\n",
              "    </g>\n",
              "</svg>\n",
              "  </button>\n",
              "\n",
              "<style>\n",
              "  .colab-df-quickchart {\n",
              "      --bg-color: #E8F0FE;\n",
              "      --fill-color: #1967D2;\n",
              "      --hover-bg-color: #E2EBFA;\n",
              "      --hover-fill-color: #174EA6;\n",
              "      --disabled-fill-color: #AAA;\n",
              "      --disabled-bg-color: #DDD;\n",
              "  }\n",
              "\n",
              "  [theme=dark] .colab-df-quickchart {\n",
              "      --bg-color: #3B4455;\n",
              "      --fill-color: #D2E3FC;\n",
              "      --hover-bg-color: #434B5C;\n",
              "      --hover-fill-color: #FFFFFF;\n",
              "      --disabled-bg-color: #3B4455;\n",
              "      --disabled-fill-color: #666;\n",
              "  }\n",
              "\n",
              "  .colab-df-quickchart {\n",
              "    background-color: var(--bg-color);\n",
              "    border: none;\n",
              "    border-radius: 50%;\n",
              "    cursor: pointer;\n",
              "    display: none;\n",
              "    fill: var(--fill-color);\n",
              "    height: 32px;\n",
              "    padding: 0;\n",
              "    width: 32px;\n",
              "  }\n",
              "\n",
              "  .colab-df-quickchart:hover {\n",
              "    background-color: var(--hover-bg-color);\n",
              "    box-shadow: 0 1px 2px rgba(60, 64, 67, 0.3), 0 1px 3px 1px rgba(60, 64, 67, 0.15);\n",
              "    fill: var(--button-hover-fill-color);\n",
              "  }\n",
              "\n",
              "  .colab-df-quickchart-complete:disabled,\n",
              "  .colab-df-quickchart-complete:disabled:hover {\n",
              "    background-color: var(--disabled-bg-color);\n",
              "    fill: var(--disabled-fill-color);\n",
              "    box-shadow: none;\n",
              "  }\n",
              "\n",
              "  .colab-df-spinner {\n",
              "    border: 2px solid var(--fill-color);\n",
              "    border-color: transparent;\n",
              "    border-bottom-color: var(--fill-color);\n",
              "    animation:\n",
              "      spin 1s steps(1) infinite;\n",
              "  }\n",
              "\n",
              "  @keyframes spin {\n",
              "    0% {\n",
              "      border-color: transparent;\n",
              "      border-bottom-color: var(--fill-color);\n",
              "      border-left-color: var(--fill-color);\n",
              "    }\n",
              "    20% {\n",
              "      border-color: transparent;\n",
              "      border-left-color: var(--fill-color);\n",
              "      border-top-color: var(--fill-color);\n",
              "    }\n",
              "    30% {\n",
              "      border-color: transparent;\n",
              "      border-left-color: var(--fill-color);\n",
              "      border-top-color: var(--fill-color);\n",
              "      border-right-color: var(--fill-color);\n",
              "    }\n",
              "    40% {\n",
              "      border-color: transparent;\n",
              "      border-right-color: var(--fill-color);\n",
              "      border-top-color: var(--fill-color);\n",
              "    }\n",
              "    60% {\n",
              "      border-color: transparent;\n",
              "      border-right-color: var(--fill-color);\n",
              "    }\n",
              "    80% {\n",
              "      border-color: transparent;\n",
              "      border-right-color: var(--fill-color);\n",
              "      border-bottom-color: var(--fill-color);\n",
              "    }\n",
              "    90% {\n",
              "      border-color: transparent;\n",
              "      border-bottom-color: var(--fill-color);\n",
              "    }\n",
              "  }\n",
              "</style>\n",
              "\n",
              "  <script>\n",
              "    async function quickchart(key) {\n",
              "      const quickchartButtonEl =\n",
              "        document.querySelector('#' + key + ' button');\n",
              "      quickchartButtonEl.disabled = true;  // To prevent multiple clicks.\n",
              "      quickchartButtonEl.classList.add('colab-df-spinner');\n",
              "      try {\n",
              "        const charts = await google.colab.kernel.invokeFunction(\n",
              "            'suggestCharts', [key], {});\n",
              "      } catch (error) {\n",
              "        console.error('Error during call to suggestCharts:', error);\n",
              "      }\n",
              "      quickchartButtonEl.classList.remove('colab-df-spinner');\n",
              "      quickchartButtonEl.classList.add('colab-df-quickchart-complete');\n",
              "    }\n",
              "    (() => {\n",
              "      let quickchartButtonEl =\n",
              "        document.querySelector('#df-37230194-a927-4de9-a966-13719064c97e button');\n",
              "      quickchartButtonEl.style.display =\n",
              "        google.colab.kernel.accessAllowed ? 'block' : 'none';\n",
              "    })();\n",
              "  </script>\n",
              "</div>\n",
              "\n",
              "    </div>\n",
              "  </div>\n"
            ],
            "application/vnd.google.colaboratory.intrinsic+json": {
              "type": "dataframe",
              "variable_name": "categorical_features",
              "summary": "{\n  \"name\": \"categorical_features\",\n  \"rows\": 8693,\n  \"fields\": [\n    {\n      \"column\": \"PassengerId\",\n      \"properties\": {\n        \"dtype\": \"string\",\n        \"num_unique_values\": 8693,\n        \"samples\": [\n          \"0337_02\",\n          \"2891_01\",\n          \"8998_01\"\n        ],\n        \"semantic_type\": \"\",\n        \"description\": \"\"\n      }\n    },\n    {\n      \"column\": \"HomePlanet\",\n      \"properties\": {\n        \"dtype\": \"category\",\n        \"num_unique_values\": 3,\n        \"samples\": [\n          \"Europa\",\n          \"Earth\",\n          \"Mars\"\n        ],\n        \"semantic_type\": \"\",\n        \"description\": \"\"\n      }\n    },\n    {\n      \"column\": \"CryoSleep\",\n      \"properties\": {\n        \"dtype\": \"category\",\n        \"num_unique_values\": 2,\n        \"samples\": [\n          true,\n          false\n        ],\n        \"semantic_type\": \"\",\n        \"description\": \"\"\n      }\n    },\n    {\n      \"column\": \"Cabin\",\n      \"properties\": {\n        \"dtype\": \"string\",\n        \"num_unique_values\": 6560,\n        \"samples\": [\n          \"A/29/P\",\n          \"G/1452/P\"\n        ],\n        \"semantic_type\": \"\",\n        \"description\": \"\"\n      }\n    },\n    {\n      \"column\": \"Destination\",\n      \"properties\": {\n        \"dtype\": \"category\",\n        \"num_unique_values\": 3,\n        \"samples\": [\n          \"TRAPPIST-1e\",\n          \"PSO J318.5-22\"\n        ],\n        \"semantic_type\": \"\",\n        \"description\": \"\"\n      }\n    },\n    {\n      \"column\": \"VIP\",\n      \"properties\": {\n        \"dtype\": \"category\",\n        \"num_unique_values\": 2,\n        \"samples\": [\n          true,\n          false\n        ],\n        \"semantic_type\": \"\",\n        \"description\": \"\"\n      }\n    },\n    {\n      \"column\": \"Name\",\n      \"properties\": {\n        \"dtype\": \"string\",\n        \"num_unique_values\": 8473,\n        \"samples\": [\n          \"Nancey Bookerson\",\n          \"Nelly Benney\"\n        ],\n        \"semantic_type\": \"\",\n        \"description\": \"\"\n      }\n    }\n  ]\n}"
            }
          },
          "metadata": {},
          "execution_count": 8
        }
      ]
    },
    {
      "cell_type": "code",
      "source": [
        "bool_features.head()"
      ],
      "metadata": {
        "colab": {
          "base_uri": "https://localhost:8080/",
          "height": 204
        },
        "id": "vZ3W2gnSdCp6",
        "outputId": "1ab0abf9-1329-4a3b-ace3-102ea4c3c1a8"
      },
      "execution_count": 9,
      "outputs": [
        {
          "output_type": "execute_result",
          "data": {
            "text/plain": [
              "   Transported\n",
              "0        False\n",
              "1         True\n",
              "2        False\n",
              "3        False\n",
              "4         True"
            ],
            "text/html": [
              "\n",
              "  <div id=\"df-cd5166b2-7d52-4080-a5b5-e5c0870e9133\" class=\"colab-df-container\">\n",
              "    <div>\n",
              "<style scoped>\n",
              "    .dataframe tbody tr th:only-of-type {\n",
              "        vertical-align: middle;\n",
              "    }\n",
              "\n",
              "    .dataframe tbody tr th {\n",
              "        vertical-align: top;\n",
              "    }\n",
              "\n",
              "    .dataframe thead th {\n",
              "        text-align: right;\n",
              "    }\n",
              "</style>\n",
              "<table border=\"1\" class=\"dataframe\">\n",
              "  <thead>\n",
              "    <tr style=\"text-align: right;\">\n",
              "      <th></th>\n",
              "      <th>Transported</th>\n",
              "    </tr>\n",
              "  </thead>\n",
              "  <tbody>\n",
              "    <tr>\n",
              "      <th>0</th>\n",
              "      <td>False</td>\n",
              "    </tr>\n",
              "    <tr>\n",
              "      <th>1</th>\n",
              "      <td>True</td>\n",
              "    </tr>\n",
              "    <tr>\n",
              "      <th>2</th>\n",
              "      <td>False</td>\n",
              "    </tr>\n",
              "    <tr>\n",
              "      <th>3</th>\n",
              "      <td>False</td>\n",
              "    </tr>\n",
              "    <tr>\n",
              "      <th>4</th>\n",
              "      <td>True</td>\n",
              "    </tr>\n",
              "  </tbody>\n",
              "</table>\n",
              "</div>\n",
              "    <div class=\"colab-df-buttons\">\n",
              "\n",
              "  <div class=\"colab-df-container\">\n",
              "    <button class=\"colab-df-convert\" onclick=\"convertToInteractive('df-cd5166b2-7d52-4080-a5b5-e5c0870e9133')\"\n",
              "            title=\"Convert this dataframe to an interactive table.\"\n",
              "            style=\"display:none;\">\n",
              "\n",
              "  <svg xmlns=\"http://www.w3.org/2000/svg\" height=\"24px\" viewBox=\"0 -960 960 960\">\n",
              "    <path d=\"M120-120v-720h720v720H120Zm60-500h600v-160H180v160Zm220 220h160v-160H400v160Zm0 220h160v-160H400v160ZM180-400h160v-160H180v160Zm440 0h160v-160H620v160ZM180-180h160v-160H180v160Zm440 0h160v-160H620v160Z\"/>\n",
              "  </svg>\n",
              "    </button>\n",
              "\n",
              "  <style>\n",
              "    .colab-df-container {\n",
              "      display:flex;\n",
              "      gap: 12px;\n",
              "    }\n",
              "\n",
              "    .colab-df-convert {\n",
              "      background-color: #E8F0FE;\n",
              "      border: none;\n",
              "      border-radius: 50%;\n",
              "      cursor: pointer;\n",
              "      display: none;\n",
              "      fill: #1967D2;\n",
              "      height: 32px;\n",
              "      padding: 0 0 0 0;\n",
              "      width: 32px;\n",
              "    }\n",
              "\n",
              "    .colab-df-convert:hover {\n",
              "      background-color: #E2EBFA;\n",
              "      box-shadow: 0px 1px 2px rgba(60, 64, 67, 0.3), 0px 1px 3px 1px rgba(60, 64, 67, 0.15);\n",
              "      fill: #174EA6;\n",
              "    }\n",
              "\n",
              "    .colab-df-buttons div {\n",
              "      margin-bottom: 4px;\n",
              "    }\n",
              "\n",
              "    [theme=dark] .colab-df-convert {\n",
              "      background-color: #3B4455;\n",
              "      fill: #D2E3FC;\n",
              "    }\n",
              "\n",
              "    [theme=dark] .colab-df-convert:hover {\n",
              "      background-color: #434B5C;\n",
              "      box-shadow: 0px 1px 3px 1px rgba(0, 0, 0, 0.15);\n",
              "      filter: drop-shadow(0px 1px 2px rgba(0, 0, 0, 0.3));\n",
              "      fill: #FFFFFF;\n",
              "    }\n",
              "  </style>\n",
              "\n",
              "    <script>\n",
              "      const buttonEl =\n",
              "        document.querySelector('#df-cd5166b2-7d52-4080-a5b5-e5c0870e9133 button.colab-df-convert');\n",
              "      buttonEl.style.display =\n",
              "        google.colab.kernel.accessAllowed ? 'block' : 'none';\n",
              "\n",
              "      async function convertToInteractive(key) {\n",
              "        const element = document.querySelector('#df-cd5166b2-7d52-4080-a5b5-e5c0870e9133');\n",
              "        const dataTable =\n",
              "          await google.colab.kernel.invokeFunction('convertToInteractive',\n",
              "                                                    [key], {});\n",
              "        if (!dataTable) return;\n",
              "\n",
              "        const docLinkHtml = 'Like what you see? Visit the ' +\n",
              "          '<a target=\"_blank\" href=https://colab.research.google.com/notebooks/data_table.ipynb>data table notebook</a>'\n",
              "          + ' to learn more about interactive tables.';\n",
              "        element.innerHTML = '';\n",
              "        dataTable['output_type'] = 'display_data';\n",
              "        await google.colab.output.renderOutput(dataTable, element);\n",
              "        const docLink = document.createElement('div');\n",
              "        docLink.innerHTML = docLinkHtml;\n",
              "        element.appendChild(docLink);\n",
              "      }\n",
              "    </script>\n",
              "  </div>\n",
              "\n",
              "\n",
              "<div id=\"df-371f67ca-c787-4004-bcb0-201abfbaacbe\">\n",
              "  <button class=\"colab-df-quickchart\" onclick=\"quickchart('df-371f67ca-c787-4004-bcb0-201abfbaacbe')\"\n",
              "            title=\"Suggest charts\"\n",
              "            style=\"display:none;\">\n",
              "\n",
              "<svg xmlns=\"http://www.w3.org/2000/svg\" height=\"24px\"viewBox=\"0 0 24 24\"\n",
              "     width=\"24px\">\n",
              "    <g>\n",
              "        <path d=\"M19 3H5c-1.1 0-2 .9-2 2v14c0 1.1.9 2 2 2h14c1.1 0 2-.9 2-2V5c0-1.1-.9-2-2-2zM9 17H7v-7h2v7zm4 0h-2V7h2v10zm4 0h-2v-4h2v4z\"/>\n",
              "    </g>\n",
              "</svg>\n",
              "  </button>\n",
              "\n",
              "<style>\n",
              "  .colab-df-quickchart {\n",
              "      --bg-color: #E8F0FE;\n",
              "      --fill-color: #1967D2;\n",
              "      --hover-bg-color: #E2EBFA;\n",
              "      --hover-fill-color: #174EA6;\n",
              "      --disabled-fill-color: #AAA;\n",
              "      --disabled-bg-color: #DDD;\n",
              "  }\n",
              "\n",
              "  [theme=dark] .colab-df-quickchart {\n",
              "      --bg-color: #3B4455;\n",
              "      --fill-color: #D2E3FC;\n",
              "      --hover-bg-color: #434B5C;\n",
              "      --hover-fill-color: #FFFFFF;\n",
              "      --disabled-bg-color: #3B4455;\n",
              "      --disabled-fill-color: #666;\n",
              "  }\n",
              "\n",
              "  .colab-df-quickchart {\n",
              "    background-color: var(--bg-color);\n",
              "    border: none;\n",
              "    border-radius: 50%;\n",
              "    cursor: pointer;\n",
              "    display: none;\n",
              "    fill: var(--fill-color);\n",
              "    height: 32px;\n",
              "    padding: 0;\n",
              "    width: 32px;\n",
              "  }\n",
              "\n",
              "  .colab-df-quickchart:hover {\n",
              "    background-color: var(--hover-bg-color);\n",
              "    box-shadow: 0 1px 2px rgba(60, 64, 67, 0.3), 0 1px 3px 1px rgba(60, 64, 67, 0.15);\n",
              "    fill: var(--button-hover-fill-color);\n",
              "  }\n",
              "\n",
              "  .colab-df-quickchart-complete:disabled,\n",
              "  .colab-df-quickchart-complete:disabled:hover {\n",
              "    background-color: var(--disabled-bg-color);\n",
              "    fill: var(--disabled-fill-color);\n",
              "    box-shadow: none;\n",
              "  }\n",
              "\n",
              "  .colab-df-spinner {\n",
              "    border: 2px solid var(--fill-color);\n",
              "    border-color: transparent;\n",
              "    border-bottom-color: var(--fill-color);\n",
              "    animation:\n",
              "      spin 1s steps(1) infinite;\n",
              "  }\n",
              "\n",
              "  @keyframes spin {\n",
              "    0% {\n",
              "      border-color: transparent;\n",
              "      border-bottom-color: var(--fill-color);\n",
              "      border-left-color: var(--fill-color);\n",
              "    }\n",
              "    20% {\n",
              "      border-color: transparent;\n",
              "      border-left-color: var(--fill-color);\n",
              "      border-top-color: var(--fill-color);\n",
              "    }\n",
              "    30% {\n",
              "      border-color: transparent;\n",
              "      border-left-color: var(--fill-color);\n",
              "      border-top-color: var(--fill-color);\n",
              "      border-right-color: var(--fill-color);\n",
              "    }\n",
              "    40% {\n",
              "      border-color: transparent;\n",
              "      border-right-color: var(--fill-color);\n",
              "      border-top-color: var(--fill-color);\n",
              "    }\n",
              "    60% {\n",
              "      border-color: transparent;\n",
              "      border-right-color: var(--fill-color);\n",
              "    }\n",
              "    80% {\n",
              "      border-color: transparent;\n",
              "      border-right-color: var(--fill-color);\n",
              "      border-bottom-color: var(--fill-color);\n",
              "    }\n",
              "    90% {\n",
              "      border-color: transparent;\n",
              "      border-bottom-color: var(--fill-color);\n",
              "    }\n",
              "  }\n",
              "</style>\n",
              "\n",
              "  <script>\n",
              "    async function quickchart(key) {\n",
              "      const quickchartButtonEl =\n",
              "        document.querySelector('#' + key + ' button');\n",
              "      quickchartButtonEl.disabled = true;  // To prevent multiple clicks.\n",
              "      quickchartButtonEl.classList.add('colab-df-spinner');\n",
              "      try {\n",
              "        const charts = await google.colab.kernel.invokeFunction(\n",
              "            'suggestCharts', [key], {});\n",
              "      } catch (error) {\n",
              "        console.error('Error during call to suggestCharts:', error);\n",
              "      }\n",
              "      quickchartButtonEl.classList.remove('colab-df-spinner');\n",
              "      quickchartButtonEl.classList.add('colab-df-quickchart-complete');\n",
              "    }\n",
              "    (() => {\n",
              "      let quickchartButtonEl =\n",
              "        document.querySelector('#df-371f67ca-c787-4004-bcb0-201abfbaacbe button');\n",
              "      quickchartButtonEl.style.display =\n",
              "        google.colab.kernel.accessAllowed ? 'block' : 'none';\n",
              "    })();\n",
              "  </script>\n",
              "</div>\n",
              "\n",
              "    </div>\n",
              "  </div>\n"
            ],
            "application/vnd.google.colaboratory.intrinsic+json": {
              "type": "dataframe",
              "variable_name": "bool_features",
              "summary": "{\n  \"name\": \"bool_features\",\n  \"rows\": 8693,\n  \"fields\": [\n    {\n      \"column\": \"Transported\",\n      \"properties\": {\n        \"dtype\": \"boolean\",\n        \"num_unique_values\": 2,\n        \"samples\": [\n          true,\n          false\n        ],\n        \"semantic_type\": \"\",\n        \"description\": \"\"\n      }\n    }\n  ]\n}"
            }
          },
          "metadata": {},
          "execution_count": 9
        }
      ]
    },
    {
      "cell_type": "code",
      "source": [
        "categorical_pipeline = Pipeline([\n",
        "    ('imputer', SimpleImputer(strategy='most_frequent')),\n",
        "    ('encoder', OneHotEncoder(handle_unknown='ignore'))\n",
        "])\n",
        "\n",
        "numerical_pipeline = Pipeline([\n",
        "    ('imputer', SimpleImputer(strategy='mean')),\n",
        "    ('scaler', StandardScaler())\n",
        "])\n",
        "\n",
        "preprocessor = ColumnTransformer([\n",
        "    ('categorical', categorical_pipeline, categorical_features.columns),\n",
        "    ('numerical', numerical_pipeline, numerical_features.columns)\n",
        "], remainder='passthrough')\n",
        "\n",
        "X = df.drop('Transported', axis=1)\n",
        "y = df['Transported']\n",
        "\n",
        "df_preprocessed = preprocessor.fit_transform(X)"
      ],
      "metadata": {
        "id": "BBye89uKdU1D"
      },
      "execution_count": 10,
      "outputs": []
    },
    {
      "cell_type": "code",
      "source": [
        "df_preprocessed.shape"
      ],
      "metadata": {
        "colab": {
          "base_uri": "https://localhost:8080/"
        },
        "id": "T4r15snFeQwB",
        "outputId": "ec1f93b3-626f-42ef-8490-cb144f6a5aa6"
      },
      "execution_count": 11,
      "outputs": [
        {
          "output_type": "execute_result",
          "data": {
            "text/plain": [
              "(8693, 23742)"
            ]
          },
          "metadata": {},
          "execution_count": 11
        }
      ]
    },
    {
      "cell_type": "code",
      "source": [
        "!pip install catboost\n",
        "X_train, X_test, y_train, y_test = train_test_split(df_preprocessed, y, test_size=0.2, random_state=42)\n",
        "\n",
        "import xgboost as xgb\n",
        "from sklearn.ensemble import RandomForestClassifier\n",
        "import catboost as cb\n",
        "from catboost import CatBoostClassifier\n",
        "\n",
        "xgb_model = xgb.XGBClassifier()\n",
        "\n",
        "xgb_param_grid ={\n",
        "    'n_estimators': [300],\n",
        "    'max_depth': [3],\n",
        "    'learning_rate': [0.1],\n",
        "    'subsample': [1.0],\n",
        "    'min_child_weight': [1]\n",
        "}\n",
        "\n",
        "rfc = RandomForestClassifier()\n",
        "catc = cb.CatBoostClassifier()\n",
        "\n",
        "rfc_param_grid = {\n",
        "    'n_estimators': [100],\n",
        "    'max_depth': [5]\n",
        "}\n",
        "\n",
        "catc_param_grid = {\n",
        "    'iterations': [100],\n",
        "    'learning_rate': [0.01, 0.001]\n",
        "}\n",
        "\n",
        "xgb_grid_search = GridSearchCV(xgb_model, xgb_param_grid, cv=3, scoring='accuracy', n_jobs=-1)\n",
        "xgb_grid_search.fit(X_train, y_train)\n",
        "\n",
        "rfc_grid_search = GridSearchCV(rfc, rfc_param_grid, cv=3, scoring='accuracy', n_jobs=-1, error_score=\"raise\")\n",
        "rfc_grid_search.fit(X_train, y_train)\n",
        "\n",
        "catc_grid_search = GridSearchCV(catc, catc_param_grid, cv=3, scoring='accuracy', n_jobs=-1, error_score='raise')\n",
        "catc_grid_search.fit(X_train, y_train)\n",
        "\n",
        "print(\"Best parameters for XGBoost:\", xgb_grid_search.best_params_)\n",
        "print(\"Best score for XGBoost:\", xgb_grid_search.best_score_)\n",
        "\n",
        "print(\"Best parameters for Random Forest:\", rfc_grid_search.best_params_)\n",
        "print(\"Best score for Random Forest:\", rfc_grid_search.best_score_)\n",
        "\n",
        "print(\"Best parameters for CatBoost:\", catc_grid_search.best_params_)\n",
        "print(\"Best score for CatBoost:\", catc_grid_search.best_score_)"
      ],
      "metadata": {
        "id": "9dSR_JERer-l",
        "colab": {
          "base_uri": "https://localhost:8080/"
        },
        "outputId": "125f33d1-2f7e-4d3a-d1bf-e69fd6ee0741"
      },
      "execution_count": 12,
      "outputs": [
        {
          "output_type": "stream",
          "name": "stdout",
          "text": [
            "Requirement already satisfied: catboost in /usr/local/lib/python3.10/dist-packages (1.2.5)\n",
            "Requirement already satisfied: graphviz in /usr/local/lib/python3.10/dist-packages (from catboost) (0.20.3)\n",
            "Requirement already satisfied: matplotlib in /usr/local/lib/python3.10/dist-packages (from catboost) (3.7.1)\n",
            "Requirement already satisfied: numpy>=1.16.0 in /usr/local/lib/python3.10/dist-packages (from catboost) (1.25.2)\n",
            "Requirement already satisfied: pandas>=0.24 in /usr/local/lib/python3.10/dist-packages (from catboost) (2.0.3)\n",
            "Requirement already satisfied: scipy in /usr/local/lib/python3.10/dist-packages (from catboost) (1.11.4)\n",
            "Requirement already satisfied: plotly in /usr/local/lib/python3.10/dist-packages (from catboost) (5.15.0)\n",
            "Requirement already satisfied: six in /usr/local/lib/python3.10/dist-packages (from catboost) (1.16.0)\n",
            "Requirement already satisfied: python-dateutil>=2.8.2 in /usr/local/lib/python3.10/dist-packages (from pandas>=0.24->catboost) (2.8.2)\n",
            "Requirement already satisfied: pytz>=2020.1 in /usr/local/lib/python3.10/dist-packages (from pandas>=0.24->catboost) (2023.4)\n",
            "Requirement already satisfied: tzdata>=2022.1 in /usr/local/lib/python3.10/dist-packages (from pandas>=0.24->catboost) (2024.1)\n",
            "Requirement already satisfied: contourpy>=1.0.1 in /usr/local/lib/python3.10/dist-packages (from matplotlib->catboost) (1.2.1)\n",
            "Requirement already satisfied: cycler>=0.10 in /usr/local/lib/python3.10/dist-packages (from matplotlib->catboost) (0.12.1)\n",
            "Requirement already satisfied: fonttools>=4.22.0 in /usr/local/lib/python3.10/dist-packages (from matplotlib->catboost) (4.53.1)\n",
            "Requirement already satisfied: kiwisolver>=1.0.1 in /usr/local/lib/python3.10/dist-packages (from matplotlib->catboost) (1.4.5)\n",
            "Requirement already satisfied: packaging>=20.0 in /usr/local/lib/python3.10/dist-packages (from matplotlib->catboost) (24.1)\n",
            "Requirement already satisfied: pillow>=6.2.0 in /usr/local/lib/python3.10/dist-packages (from matplotlib->catboost) (9.4.0)\n",
            "Requirement already satisfied: pyparsing>=2.3.1 in /usr/local/lib/python3.10/dist-packages (from matplotlib->catboost) (3.1.2)\n",
            "Requirement already satisfied: tenacity>=6.2.0 in /usr/local/lib/python3.10/dist-packages (from plotly->catboost) (8.5.0)\n",
            "0:\tlearn: 0.6877213\ttotal: 113ms\tremaining: 11.2s\n",
            "1:\tlearn: 0.6831685\ttotal: 182ms\tremaining: 8.9s\n",
            "2:\tlearn: 0.6780431\ttotal: 249ms\tremaining: 8.06s\n",
            "3:\tlearn: 0.6732300\ttotal: 316ms\tremaining: 7.58s\n",
            "4:\tlearn: 0.6687468\ttotal: 382ms\tremaining: 7.26s\n",
            "5:\tlearn: 0.6639158\ttotal: 448ms\tremaining: 7.01s\n",
            "6:\tlearn: 0.6602134\ttotal: 523ms\tremaining: 6.95s\n",
            "7:\tlearn: 0.6565242\ttotal: 588ms\tremaining: 6.77s\n",
            "8:\tlearn: 0.6521577\ttotal: 659ms\tremaining: 6.66s\n",
            "9:\tlearn: 0.6479591\ttotal: 732ms\tremaining: 6.59s\n",
            "10:\tlearn: 0.6440931\ttotal: 798ms\tremaining: 6.46s\n",
            "11:\tlearn: 0.6402046\ttotal: 865ms\tremaining: 6.34s\n",
            "12:\tlearn: 0.6373733\ttotal: 944ms\tremaining: 6.32s\n",
            "13:\tlearn: 0.6341597\ttotal: 1.01s\tremaining: 6.24s\n",
            "14:\tlearn: 0.6313434\ttotal: 1.09s\tremaining: 6.17s\n",
            "15:\tlearn: 0.6277667\ttotal: 1.16s\tremaining: 6.08s\n",
            "16:\tlearn: 0.6239985\ttotal: 1.22s\tremaining: 5.98s\n",
            "17:\tlearn: 0.6209735\ttotal: 1.29s\tremaining: 5.87s\n",
            "18:\tlearn: 0.6172443\ttotal: 1.36s\tremaining: 5.79s\n",
            "19:\tlearn: 0.6142674\ttotal: 1.43s\tremaining: 5.71s\n",
            "20:\tlearn: 0.6118736\ttotal: 1.5s\tremaining: 5.65s\n",
            "21:\tlearn: 0.6092337\ttotal: 1.57s\tremaining: 5.57s\n",
            "22:\tlearn: 0.6062183\ttotal: 1.64s\tremaining: 5.49s\n",
            "23:\tlearn: 0.6034398\ttotal: 1.71s\tremaining: 5.41s\n",
            "24:\tlearn: 0.6006669\ttotal: 1.78s\tremaining: 5.35s\n",
            "25:\tlearn: 0.5982881\ttotal: 1.85s\tremaining: 5.27s\n",
            "26:\tlearn: 0.5955190\ttotal: 1.92s\tremaining: 5.18s\n",
            "27:\tlearn: 0.5929450\ttotal: 1.98s\tremaining: 5.1s\n",
            "28:\tlearn: 0.5900030\ttotal: 2.07s\tremaining: 5.07s\n",
            "29:\tlearn: 0.5872064\ttotal: 2.13s\tremaining: 4.98s\n",
            "30:\tlearn: 0.5852187\ttotal: 2.2s\tremaining: 4.9s\n",
            "31:\tlearn: 0.5829376\ttotal: 2.27s\tremaining: 4.82s\n",
            "32:\tlearn: 0.5802966\ttotal: 2.34s\tremaining: 4.75s\n",
            "33:\tlearn: 0.5786145\ttotal: 2.4s\tremaining: 4.67s\n",
            "34:\tlearn: 0.5767378\ttotal: 2.47s\tremaining: 4.59s\n",
            "35:\tlearn: 0.5744185\ttotal: 2.54s\tremaining: 4.51s\n",
            "36:\tlearn: 0.5718347\ttotal: 2.61s\tremaining: 4.44s\n",
            "37:\tlearn: 0.5694087\ttotal: 2.67s\tremaining: 4.37s\n",
            "38:\tlearn: 0.5671103\ttotal: 2.75s\tremaining: 4.3s\n",
            "39:\tlearn: 0.5654957\ttotal: 2.82s\tremaining: 4.22s\n",
            "40:\tlearn: 0.5637754\ttotal: 2.88s\tremaining: 4.15s\n",
            "41:\tlearn: 0.5613502\ttotal: 2.95s\tremaining: 4.07s\n",
            "42:\tlearn: 0.5592488\ttotal: 3.02s\tremaining: 4s\n",
            "43:\tlearn: 0.5577027\ttotal: 3.1s\tremaining: 3.94s\n",
            "44:\tlearn: 0.5553706\ttotal: 3.17s\tremaining: 3.87s\n",
            "45:\tlearn: 0.5532769\ttotal: 3.23s\tremaining: 3.79s\n",
            "46:\tlearn: 0.5512164\ttotal: 3.3s\tremaining: 3.72s\n",
            "47:\tlearn: 0.5490870\ttotal: 3.37s\tremaining: 3.65s\n",
            "48:\tlearn: 0.5476763\ttotal: 3.43s\tremaining: 3.57s\n",
            "49:\tlearn: 0.5456529\ttotal: 3.5s\tremaining: 3.5s\n",
            "50:\tlearn: 0.5443094\ttotal: 3.56s\tremaining: 3.42s\n",
            "51:\tlearn: 0.5423885\ttotal: 3.63s\tremaining: 3.35s\n",
            "52:\tlearn: 0.5405694\ttotal: 3.7s\tremaining: 3.29s\n",
            "53:\tlearn: 0.5394871\ttotal: 3.77s\tremaining: 3.21s\n",
            "54:\tlearn: 0.5375300\ttotal: 3.84s\tremaining: 3.14s\n",
            "55:\tlearn: 0.5362636\ttotal: 3.9s\tremaining: 3.07s\n",
            "56:\tlearn: 0.5342612\ttotal: 3.97s\tremaining: 3s\n",
            "57:\tlearn: 0.5325096\ttotal: 4.04s\tremaining: 2.93s\n",
            "58:\tlearn: 0.5308882\ttotal: 4.13s\tremaining: 2.87s\n",
            "59:\tlearn: 0.5294900\ttotal: 4.19s\tremaining: 2.79s\n",
            "60:\tlearn: 0.5281662\ttotal: 4.27s\tremaining: 2.73s\n",
            "61:\tlearn: 0.5271786\ttotal: 4.34s\tremaining: 2.66s\n",
            "62:\tlearn: 0.5259481\ttotal: 4.41s\tremaining: 2.59s\n",
            "63:\tlearn: 0.5246934\ttotal: 4.48s\tremaining: 2.52s\n",
            "64:\tlearn: 0.5235895\ttotal: 4.55s\tremaining: 2.45s\n",
            "65:\tlearn: 0.5221774\ttotal: 4.61s\tremaining: 2.38s\n",
            "66:\tlearn: 0.5207274\ttotal: 4.69s\tremaining: 2.31s\n",
            "67:\tlearn: 0.5195733\ttotal: 4.76s\tremaining: 2.24s\n",
            "68:\tlearn: 0.5185656\ttotal: 4.84s\tremaining: 2.17s\n",
            "69:\tlearn: 0.5172656\ttotal: 4.91s\tremaining: 2.1s\n",
            "70:\tlearn: 0.5163412\ttotal: 4.99s\tremaining: 2.04s\n",
            "71:\tlearn: 0.5148829\ttotal: 5.09s\tremaining: 1.98s\n",
            "72:\tlearn: 0.5136760\ttotal: 5.21s\tremaining: 1.93s\n",
            "73:\tlearn: 0.5125761\ttotal: 5.31s\tremaining: 1.86s\n",
            "74:\tlearn: 0.5112936\ttotal: 5.42s\tremaining: 1.81s\n",
            "75:\tlearn: 0.5100677\ttotal: 5.54s\tremaining: 1.75s\n",
            "76:\tlearn: 0.5091945\ttotal: 5.66s\tremaining: 1.69s\n",
            "77:\tlearn: 0.5085102\ttotal: 5.77s\tremaining: 1.63s\n",
            "78:\tlearn: 0.5072792\ttotal: 5.88s\tremaining: 1.56s\n",
            "79:\tlearn: 0.5064866\ttotal: 5.99s\tremaining: 1.5s\n",
            "80:\tlearn: 0.5053908\ttotal: 6.1s\tremaining: 1.43s\n",
            "81:\tlearn: 0.5046284\ttotal: 6.23s\tremaining: 1.37s\n",
            "82:\tlearn: 0.5039719\ttotal: 6.34s\tremaining: 1.3s\n",
            "83:\tlearn: 0.5030159\ttotal: 6.46s\tremaining: 1.23s\n",
            "84:\tlearn: 0.5019567\ttotal: 6.57s\tremaining: 1.16s\n",
            "85:\tlearn: 0.5009925\ttotal: 6.7s\tremaining: 1.09s\n",
            "86:\tlearn: 0.4998251\ttotal: 6.82s\tremaining: 1.02s\n",
            "87:\tlearn: 0.4992557\ttotal: 6.95s\tremaining: 948ms\n",
            "88:\tlearn: 0.4984802\ttotal: 7.08s\tremaining: 875ms\n",
            "89:\tlearn: 0.4974694\ttotal: 7.19s\tremaining: 799ms\n",
            "90:\tlearn: 0.4968356\ttotal: 7.33s\tremaining: 724ms\n",
            "91:\tlearn: 0.4959062\ttotal: 7.43s\tremaining: 647ms\n",
            "92:\tlearn: 0.4950029\ttotal: 7.55s\tremaining: 569ms\n",
            "93:\tlearn: 0.4943466\ttotal: 7.67s\tremaining: 490ms\n",
            "94:\tlearn: 0.4933953\ttotal: 7.79s\tremaining: 410ms\n",
            "95:\tlearn: 0.4927841\ttotal: 7.92s\tremaining: 330ms\n",
            "96:\tlearn: 0.4920367\ttotal: 8.04s\tremaining: 249ms\n",
            "97:\tlearn: 0.4912697\ttotal: 8.15s\tremaining: 166ms\n",
            "98:\tlearn: 0.4904916\ttotal: 8.27s\tremaining: 83.5ms\n",
            "99:\tlearn: 0.4898807\ttotal: 8.39s\tremaining: 0us\n",
            "Best parameters for XGBoost: {'learning_rate': 0.1, 'max_depth': 3, 'min_child_weight': 1, 'n_estimators': 300, 'subsample': 1.0}\n",
            "Best score for XGBoost: 0.7975266033937304\n",
            "Best parameters for Random Forest: {'max_depth': 5, 'n_estimators': 100}\n",
            "Best score for Random Forest: 0.7366983031348865\n",
            "Best parameters for CatBoost: {'iterations': 100, 'learning_rate': 0.01}\n",
            "Best score for CatBoost: 0.7932125395455852\n"
          ]
        }
      ]
    },
    {
      "cell_type": "code",
      "source": [
        "df = pd.read_csv('/content/drive/MyDrive/Colab Notebooks/trainSpaceTitanic.csv')"
      ],
      "metadata": {
        "id": "tbR_tTOmd5Zh"
      },
      "execution_count": 13,
      "outputs": []
    },
    {
      "cell_type": "code",
      "source": [
        "#Making new features to see if model accuracy improves and using heatmap to see if any features are too correlated\n",
        "sns.heatmap(numerical_features.corr(), annot=True, cmap='coolwarm')\n",
        "\n",
        "df['AmountSpent'] = df['RoomService'] + df['FoodCourt'] + df['ShoppingMall'] + df['Spa'] + df['VRDeck']"
      ],
      "metadata": {
        "colab": {
          "base_uri": "https://localhost:8080/",
          "height": 515
        },
        "id": "Sx6h8AsiRlcu",
        "outputId": "3fb109b8-d843-4277-bbff-d1c427caccbf"
      },
      "execution_count": 14,
      "outputs": [
        {
          "output_type": "display_data",
          "data": {
            "text/plain": [
              "<Figure size 640x480 with 2 Axes>"
            ],
            "image/png": "[encoded data removed]"
          },
          "metadata": {}
        }
      ]
    },
    {
      "cell_type": "code",
      "source": [
        "df.columns"
      ],
      "metadata": {
        "colab": {
          "base_uri": "https://localhost:8080/"
        },
        "id": "CKfy69gYV2wB",
        "outputId": "da70bfde-4a18-483b-947f-ad6593530cb3"
      },
      "execution_count": 15,
      "outputs": [
        {
          "output_type": "execute_result",
          "data": {
            "text/plain": [
              "Index(['PassengerId', 'HomePlanet', 'CryoSleep', 'Cabin', 'Destination', 'Age',\n",
              "       'VIP', 'RoomService', 'FoodCourt', 'ShoppingMall', 'Spa', 'VRDeck',\n",
              "       'Name', 'Transported', 'AmountSpent'],\n",
              "      dtype='object')"
            ]
          },
          "metadata": {},
          "execution_count": 15
        }
      ]
    },
    {
      "cell_type": "code",
      "source": [
        "sns.boxplot(x='Transported', y='CryoSleep', data=df)"
      ],
      "metadata": {
        "colab": {
          "base_uri": "https://localhost:8080/",
          "height": 467
        },
        "id": "OrsZpjVqUY2_",
        "outputId": "281aa8c8-25c1-4f8b-d1d6-c80ed0732387"
      },
      "execution_count": 16,
      "outputs": [
        {
          "output_type": "execute_result",
          "data": {
            "text/plain": [
              "<Axes: xlabel='Transported', ylabel='CryoSleep'>"
            ]
          },
          "metadata": {},
          "execution_count": 16
        },
        {
          "output_type": "display_data",
          "data": {
            "text/plain": [
              "<Figure size 640x480 with 1 Axes>"
            ],
            "image/png": "[encoded data removed]"
          },
          "metadata": {}
        }
      ]
    },
    {
      "cell_type": "code",
      "source": [
        "a = df.query('CryoSleep == 1 and Transported == 1')['Transported'].count()\n",
        "b = df.query('CryoSleep == 0 and Transported == 1')['Transported'].count()\n",
        "c = df.query('CryoSleep == 1')['Transported'].count()\n",
        "d = df.query('CryoSleep == 0')['Transported'].count()\n",
        "a/c,b/d\n",
        "#looks like theres about an 82% chance of getting transported if a person does choose cryosleep"
      ],
      "metadata": {
        "colab": {
          "base_uri": "https://localhost:8080/"
        },
        "id": "dK12RDEXWMsQ",
        "outputId": "d88efdc8-a47e-4095-de40-fee66c2d0ee4"
      },
      "execution_count": 17,
      "outputs": [
        {
          "output_type": "execute_result",
          "data": {
            "text/plain": [
              "(0.8175831412578202, 0.3289207574921861)"
            ]
          },
          "metadata": {},
          "execution_count": 17
        }
      ]
    },
    {
      "cell_type": "code",
      "source": [
        "d=df.query('VIP == 1 and Transported == 1')['Transported'].count()/df.query('VIP == 1')['Transported'].count(),\n",
        "c=df.query('VIP == 0 and Transported == 1')['Transported'].count()/df.query('VIP == 0')['Transported'].count()\n",
        "d,c"
      ],
      "metadata": {
        "colab": {
          "base_uri": "https://localhost:8080/"
        },
        "id": "Yz4RRv9UXltz",
        "outputId": "bb022af0-e562-4fa0-d02a-f9cbeed6fa81"
      },
      "execution_count": 18,
      "outputs": [
        {
          "output_type": "execute_result",
          "data": {
            "text/plain": [
              "((0.38190954773869346,), 0.5063321674104451)"
            ]
          },
          "metadata": {},
          "execution_count": 18
        }
      ]
    },
    {
      "cell_type": "code",
      "source": [
        "a = df.query('HomePlanet != \"Earth\" and HomePlanet != \"Europa\" and Transported == 1')['Transported'].count()\n",
        "b = df.query('HomePlanet != \"Earth\" and HomePlanet != \"Europa\"')['Transported'].count()\n",
        "a/b"
      ],
      "metadata": {
        "colab": {
          "base_uri": "https://localhost:8080/"
        },
        "id": "cXzOrM9qZqkt",
        "outputId": "85fce99b-7166-4bc7-f8f1-c18c50463217"
      },
      "execution_count": 19,
      "outputs": [
        {
          "output_type": "execute_result",
          "data": {
            "text/plain": [
              "0.5219387755102041"
            ]
          },
          "metadata": {},
          "execution_count": 19
        }
      ]
    },
    {
      "cell_type": "code",
      "source": [
        "d = df.query('Destination == \"TRAPPIST-1e\" and Transported == 1')['Transported'].count()\n",
        "f = df.query('Destination == \"TRAPPIST-1e\"')['Transported'].count()\n",
        "d/f"
      ],
      "metadata": {
        "colab": {
          "base_uri": "https://localhost:8080/"
        },
        "id": "8AiP8Zviareq",
        "outputId": "20c3ce34-a61a-4f4a-f388-efd6bf19c027"
      },
      "execution_count": 20,
      "outputs": [
        {
          "output_type": "execute_result",
          "data": {
            "text/plain": [
              "0.47117497886728654"
            ]
          },
          "metadata": {},
          "execution_count": 20
        }
      ]
    },
    {
      "cell_type": "code",
      "source": [
        "d = df.query('HomePlanet == \"Earth\" and Transported == 1')['Transported'].count()\n",
        "f = df.query('HomePlanet == \"Earth\"')['Transported'].count()\n",
        "\n",
        "a = df.query('HomePlanet == \"Europa\" and Transported == 1')['Transported'].count()\n",
        "c = df.query('HomePlanet == \"Europa\"')['Transported'].count()\n",
        "d/f,a/c"
      ],
      "metadata": {
        "colab": {
          "base_uri": "https://localhost:8080/"
        },
        "id": "Pqt9BxHZcCVv",
        "outputId": "50e480a2-a79e-44b8-b15b-ca412a40b893"
      },
      "execution_count": 21,
      "outputs": [
        {
          "output_type": "execute_result",
          "data": {
            "text/plain": [
              "(0.42394611038678837, 0.65884561238855)"
            ]
          },
          "metadata": {},
          "execution_count": 21
        }
      ]
    },
    {
      "cell_type": "code",
      "source": [
        "df['AmountSpent'].describe()"
      ],
      "metadata": {
        "colab": {
          "base_uri": "https://localhost:8080/"
        },
        "id": "tApZFt40fhdD",
        "outputId": "5018c3e5-da59-42eb-b60e-8b7422053790"
      },
      "execution_count": 22,
      "outputs": [
        {
          "output_type": "execute_result",
          "data": {
            "text/plain": [
              "count     7785.000000\n",
              "mean      1484.601541\n",
              "std       2845.288241\n",
              "min          0.000000\n",
              "25%          0.000000\n",
              "50%        736.000000\n",
              "75%       1486.000000\n",
              "max      35987.000000\n",
              "Name: AmountSpent, dtype: float64"
            ]
          },
          "metadata": {},
          "execution_count": 22
        }
      ]
    },
    {
      "cell_type": "code",
      "source": [
        "df.query('AmountSpent < 1000')['Transported'].value_counts()"
      ],
      "metadata": {
        "colab": {
          "base_uri": "https://localhost:8080/"
        },
        "id": "hVLuE1ugftG0",
        "outputId": "6025c7e4-bb52-4eea-b9cd-955ad7b3f9a1"
      },
      "execution_count": 23,
      "outputs": [
        {
          "output_type": "execute_result",
          "data": {
            "text/plain": [
              "Transported\n",
              "True     3116\n",
              "False    2060\n",
              "Name: count, dtype: int64"
            ]
          },
          "metadata": {},
          "execution_count": 23
        }
      ]
    },
    {
      "cell_type": "code",
      "source": [
        "df.query('AmountSpent < 750')['Transported'].value_counts()"
      ],
      "metadata": {
        "colab": {
          "base_uri": "https://localhost:8080/"
        },
        "id": "ioKB6jGzgr7D",
        "outputId": "c49a8bb0-2d37-4412-a562-346588bf3607"
      },
      "execution_count": 24,
      "outputs": [
        {
          "output_type": "execute_result",
          "data": {
            "text/plain": [
              "Transported\n",
              "True     2754\n",
              "False    1194\n",
              "Name: count, dtype: int64"
            ]
          },
          "metadata": {},
          "execution_count": 24
        }
      ]
    },
    {
      "cell_type": "code",
      "source": [
        "df.query('Age > 25')['Transported'].value_counts()"
      ],
      "metadata": {
        "colab": {
          "base_uri": "https://localhost:8080/"
        },
        "id": "5ESGhu78hI7h",
        "outputId": "fded6454-c9fa-4927-f487-4c17de1cf144"
      },
      "execution_count": 25,
      "outputs": [
        {
          "output_type": "execute_result",
          "data": {
            "text/plain": [
              "Transported\n",
              "False    2380\n",
              "True     2238\n",
              "Name: count, dtype: int64"
            ]
          },
          "metadata": {},
          "execution_count": 25
        }
      ]
    },
    {
      "cell_type": "code",
      "source": [
        "df.query('Age > 25 and CryoSleep == 1')['Transported'].value_counts()"
      ],
      "metadata": {
        "colab": {
          "base_uri": "https://localhost:8080/"
        },
        "id": "XIMJrteIpzDZ",
        "outputId": "a3e39490-efff-4d1d-851b-ec814dab2e49"
      },
      "execution_count": 26,
      "outputs": [
        {
          "output_type": "execute_result",
          "data": {
            "text/plain": [
              "Transported\n",
              "True     1277\n",
              "False     224\n",
              "Name: count, dtype: int64"
            ]
          },
          "metadata": {},
          "execution_count": 26
        }
      ]
    },
    {
      "cell_type": "code",
      "source": [
        "df.query('RoomService == 0')['Transported'].value_counts()"
      ],
      "metadata": {
        "colab": {
          "base_uri": "https://localhost:8080/"
        },
        "id": "qZhXrFtvvq9-",
        "outputId": "508254c4-1e53-41ec-acb8-98193c398df1"
      },
      "execution_count": 27,
      "outputs": [
        {
          "output_type": "execute_result",
          "data": {
            "text/plain": [
              "Transported\n",
              "True     3532\n",
              "False    2045\n",
              "Name: count, dtype: int64"
            ]
          },
          "metadata": {},
          "execution_count": 27
        }
      ]
    },
    {
      "cell_type": "code",
      "source": [
        "df.query('FoodCourt == 0')['Transported'].value_counts()"
      ],
      "metadata": {
        "colab": {
          "base_uri": "https://localhost:8080/"
        },
        "id": "iobhwsSUwGjW",
        "outputId": "4712d911-6f85-4144-910a-9be6f894ac08"
      },
      "execution_count": 28,
      "outputs": [
        {
          "output_type": "execute_result",
          "data": {
            "text/plain": [
              "Transported\n",
              "True     3224\n",
              "False    2232\n",
              "Name: count, dtype: int64"
            ]
          },
          "metadata": {},
          "execution_count": 28
        }
      ]
    },
    {
      "cell_type": "code",
      "source": [
        "df.query('AmountSpent > 0')['Transported'].value_counts()"
      ],
      "metadata": {
        "colab": {
          "base_uri": "https://localhost:8080/"
        },
        "id": "Yefz0C6pwV6b",
        "outputId": "8dd2b719-3d60-42bf-e7c3-dadfe4fc3426"
      },
      "execution_count": 29,
      "outputs": [
        {
          "output_type": "execute_result",
          "data": {
            "text/plain": [
              "Transported\n",
              "False    3171\n",
              "True     1367\n",
              "Name: count, dtype: int64"
            ]
          },
          "metadata": {},
          "execution_count": 29
        }
      ]
    },
    {
      "cell_type": "code",
      "source": [
        "df.query('Destination == \"TRAPPIST-1e\" and HomePlanet == \"Earth\"')['Transported'].value_counts()"
      ],
      "metadata": {
        "colab": {
          "base_uri": "https://localhost:8080/"
        },
        "id": "CENKewBgxS4P",
        "outputId": "48867dd8-ca3d-4ef8-80c1-afb82b2756a1"
      },
      "execution_count": 30,
      "outputs": [
        {
          "output_type": "execute_result",
          "data": {
            "text/plain": [
              "Transported\n",
              "False    1894\n",
              "True     1207\n",
              "Name: count, dtype: int64"
            ]
          },
          "metadata": {},
          "execution_count": 30
        }
      ]
    },
    {
      "cell_type": "code",
      "source": [
        "df['HomeDestination'] = df['HomePlanet'] + df['Destination']\n",
        "df['HomeDestination'].value_counts()"
      ],
      "metadata": {
        "colab": {
          "base_uri": "https://localhost:8080/"
        },
        "id": "Y5A3a4oFx096",
        "outputId": "0517e1dd-941c-4904-bf33-be72c0076553"
      },
      "execution_count": 31,
      "outputs": [
        {
          "output_type": "execute_result",
          "data": {
            "text/plain": [
              "HomeDestination\n",
              "EarthTRAPPIST-1e       3101\n",
              "MarsTRAPPIST-1e        1475\n",
              "EuropaTRAPPIST-1e      1189\n",
              "Europa55 Cancri e       886\n",
              "EarthPSO J318.5-22      712\n",
              "Earth55 Cancri e        690\n",
              "Mars55 Cancri e         193\n",
              "MarsPSO J318.5-22        49\n",
              "EuropaPSO J318.5-22      19\n",
              "Name: count, dtype: int64"
            ]
          },
          "metadata": {},
          "execution_count": 31
        }
      ]
    },
    {
      "cell_type": "code",
      "source": [
        "sns.boxplot(x='Destination', y='HomePlanet', data=df)"
      ],
      "metadata": {
        "colab": {
          "base_uri": "https://localhost:8080/",
          "height": 467
        },
        "id": "psP-sPmOxjtY",
        "outputId": "04e4bd14-0940-4e82-ca23-72689ae56316"
      },
      "execution_count": 32,
      "outputs": [
        {
          "output_type": "execute_result",
          "data": {
            "text/plain": [
              "<Axes: xlabel='Destination', ylabel='HomePlanet'>"
            ]
          },
          "metadata": {},
          "execution_count": 32
        },
        {
          "output_type": "display_data",
          "data": {
            "text/plain": [
              "<Figure size 640x480 with 1 Axes>"
            ],
            "image/png": "[encoded data removed]"
          },
          "metadata": {}
        }
      ]
    },
    {
      "cell_type": "code",
      "source": [
        "df['SpentMoney'] = df['AmountSpent'] > 0\n",
        "df['SpentMoney']"
      ],
      "metadata": {
        "colab": {
          "base_uri": "https://localhost:8080/"
        },
        "id": "IeLP8c4jwdJu",
        "outputId": "6b206b80-8836-401e-c9b6-158c83712c95"
      },
      "execution_count": 33,
      "outputs": [
        {
          "output_type": "execute_result",
          "data": {
            "text/plain": [
              "0       False\n",
              "1        True\n",
              "2        True\n",
              "3        True\n",
              "4        True\n",
              "        ...  \n",
              "8688     True\n",
              "8689    False\n",
              "8690     True\n",
              "8691     True\n",
              "8692     True\n",
              "Name: SpentMoney, Length: 8693, dtype: bool"
            ]
          },
          "metadata": {},
          "execution_count": 33
        }
      ]
    },
    {
      "cell_type": "code",
      "source": [
        "df[['Deck', 'Num', 'Side']] = df['Cabin'].str.split('/', expand=True)\n",
        "df = df.drop('Cabin', axis=1)"
      ],
      "metadata": {
        "id": "Q0ueAl3kbLcT"
      },
      "execution_count": 34,
      "outputs": []
    },
    {
      "cell_type": "code",
      "source": [
        "df.query('CryoSleep == 1 and AmountSpent == 0')['Transported'].value_counts()"
      ],
      "metadata": {
        "colab": {
          "base_uri": "https://localhost:8080/"
        },
        "id": "CP1j3sCNtg-B",
        "outputId": "c8178581-26cb-4b0e-e0c7-d598adabfcf2"
      },
      "execution_count": 35,
      "outputs": [
        {
          "output_type": "execute_result",
          "data": {
            "text/plain": [
              "Transported\n",
              "True     2194\n",
              "False     496\n",
              "Name: count, dtype: int64"
            ]
          },
          "metadata": {},
          "execution_count": 35
        }
      ]
    },
    {
      "cell_type": "code",
      "source": [
        "df.query('CryoSleep == 1 and Age < 150')['Transported'].value_counts()"
      ],
      "metadata": {
        "colab": {
          "base_uri": "https://localhost:8080/"
        },
        "id": "o9u_rC8wuL9E",
        "outputId": "05f156fc-f6f0-4d4a-e96c-30292c58c7d1"
      },
      "execution_count": 36,
      "outputs": [
        {
          "output_type": "execute_result",
          "data": {
            "text/plain": [
              "Transported\n",
              "True     2419\n",
              "False     536\n",
              "Name: count, dtype: int64"
            ]
          },
          "metadata": {},
          "execution_count": 36
        }
      ]
    },
    {
      "cell_type": "code",
      "source": [
        "df.columns"
      ],
      "metadata": {
        "colab": {
          "base_uri": "https://localhost:8080/"
        },
        "id": "ku55aSmSbhPu",
        "outputId": "a26d6cd8-2273-4e70-9734-59528c186fa2"
      },
      "execution_count": 37,
      "outputs": [
        {
          "output_type": "execute_result",
          "data": {
            "text/plain": [
              "Index(['PassengerId', 'HomePlanet', 'CryoSleep', 'Destination', 'Age', 'VIP',\n",
              "       'RoomService', 'FoodCourt', 'ShoppingMall', 'Spa', 'VRDeck', 'Name',\n",
              "       'Transported', 'AmountSpent', 'HomeDestination', 'SpentMoney', 'Deck',\n",
              "       'Num', 'Side'],\n",
              "      dtype='object')"
            ]
          },
          "metadata": {},
          "execution_count": 37
        }
      ]
    },
    {
      "cell_type": "code",
      "source": [
        "d = df.query('AmountSpent < 100')['PassengerId'].count()\n",
        "c = df.query('AmountSpent > 100 and AmountSpent < 1000')['PassengerId'].count()\n",
        "e = df.query('AmountSpent > 1000')['PassengerId'].count()\n",
        "d,c,e"
      ],
      "metadata": {
        "colab": {
          "base_uri": "https://localhost:8080/"
        },
        "id": "7Bv7sNNaamyw",
        "outputId": "9811b3ef-df9a-425e-8abf-be1b6208e337"
      },
      "execution_count": 38,
      "outputs": [
        {
          "output_type": "execute_result",
          "data": {
            "text/plain": [
              "(3247, 1929, 2609)"
            ]
          },
          "metadata": {},
          "execution_count": 38
        }
      ]
    },
    {
      "cell_type": "code",
      "source": [
        "df['WealthClass'] = df['AmountSpent'].apply(lambda x: 1 if x < 100 else 2 if x < 1000 else 3)"
      ],
      "metadata": {
        "id": "Fn6hWeMxcbR0"
      },
      "execution_count": 39,
      "outputs": []
    },
    {
      "cell_type": "code",
      "source": [
        "a = df.query('Side == \"S\"')['Transported'].value_counts()\n",
        "b = df.query('Side == \"P\"')['Transported'].value_counts()\n",
        "a,b"
      ],
      "metadata": {
        "colab": {
          "base_uri": "https://localhost:8080/"
        },
        "id": "Oly49dYJdhFk",
        "outputId": "dc6faf58-d49b-41b4-9975-6c3cd5958edc"
      },
      "execution_count": 40,
      "outputs": [
        {
          "output_type": "execute_result",
          "data": {
            "text/plain": [
              "(Transported\n",
              " True     2380\n",
              " False    1908\n",
              " Name: count, dtype: int64,\n",
              " Transported\n",
              " False    2308\n",
              " True     1898\n",
              " Name: count, dtype: int64)"
            ]
          },
          "metadata": {},
          "execution_count": 40
        }
      ]
    },
    {
      "cell_type": "code",
      "source": [
        "df.query('Side == \"S\" and CryoSleep == 1')['Transported'].value_counts(),df.query('Side == \"P\" and CryoSleep == 1')['Transported'].value_counts()"
      ],
      "metadata": {
        "colab": {
          "base_uri": "https://localhost:8080/"
        },
        "id": "YhKlARtseCR-",
        "outputId": "b4ed4a4c-ed2c-4697-fda0-52eacb944bb2"
      },
      "execution_count": 41,
      "outputs": [
        {
          "output_type": "execute_result",
          "data": {
            "text/plain": [
              "(Transported\n",
              " True     1310\n",
              " False     223\n",
              " Name: count, dtype: int64,\n",
              " Transported\n",
              " True     1106\n",
              " False     314\n",
              " Name: count, dtype: int64)"
            ]
          },
          "metadata": {},
          "execution_count": 41
        }
      ]
    },
    {
      "cell_type": "code",
      "source": [
        "'''df[['First', 'Last']] = df['Name'].str.split(' ', expand=True)\n",
        "dict = {}\n",
        "for n in df['Last']:\n",
        "  if n in dict:\n",
        "    dict[n] += 1\n",
        "  else:\n",
        "    dict[n] = 1\n",
        "\n",
        "df['FamilySize'] = df['Last'].map(dict)\n",
        "\n",
        "dict = {}\n",
        "for n in df['Last']:\n",
        "  if n in dict:\n",
        "    dict[n] = 1\n",
        "  else:\n",
        "    dict[n] = 0\n",
        "\n",
        "df['HasSibling'] = df['Last'].map(dict)'''\n",
        "#didnt make model better\n"
      ],
      "metadata": {
        "colab": {
          "base_uri": "https://localhost:8080/",
          "height": 72
        },
        "id": "-u9jgNbwgsnN",
        "outputId": "d8d6e375-d47a-4802-a450-2f67ae38c34f"
      },
      "execution_count": 42,
      "outputs": [
        {
          "output_type": "execute_result",
          "data": {
            "text/plain": [
              "\"df[['First', 'Last']] = df['Name'].str.split(' ', expand=True)\\ndict = {}\\nfor n in df['Last']:\\n  if n in dict:\\n    dict[n] += 1\\n  else:\\n    dict[n] = 1\\n\\ndf['FamilySize'] = df['Last'].map(dict)\\n\\ndict = {}\\nfor n in df['Last']:\\n  if n in dict:\\n    dict[n] = 1\\n  else:\\n    dict[n] = 0\\n\\ndf['HasSibling'] = df['Last'].map(dict)\""
            ],
            "application/vnd.google.colaboratory.intrinsic+json": {
              "type": "string"
            }
          },
          "metadata": {},
          "execution_count": 42
        }
      ]
    },
    {
      "cell_type": "code",
      "source": [
        "df['Deck'].value_counts()"
      ],
      "metadata": {
        "colab": {
          "base_uri": "https://localhost:8080/"
        },
        "id": "pBWQWwuwwKt3",
        "outputId": "6b3d438f-27e7-4bfb-ddd8-0b9e74b58409"
      },
      "execution_count": 43,
      "outputs": [
        {
          "output_type": "execute_result",
          "data": {
            "text/plain": [
              "Deck\n",
              "F    2794\n",
              "G    2559\n",
              "E     876\n",
              "B     779\n",
              "C     747\n",
              "D     478\n",
              "A     256\n",
              "T       5\n",
              "Name: count, dtype: int64"
            ]
          },
          "metadata": {},
          "execution_count": 43
        }
      ]
    },
    {
      "cell_type": "code",
      "source": [
        "df.query('Deck == \"G\" and CryoSleep == 1')['Transported'].value_counts()"
      ],
      "metadata": {
        "colab": {
          "base_uri": "https://localhost:8080/"
        },
        "id": "fhJSwglz25io",
        "outputId": "bab9e707-4f1d-4547-906e-8f3ce082ed0d"
      },
      "execution_count": 44,
      "outputs": [
        {
          "output_type": "execute_result",
          "data": {
            "text/plain": [
              "Transported\n",
              "True     890\n",
              "False    460\n",
              "Name: count, dtype: int64"
            ]
          },
          "metadata": {},
          "execution_count": 44
        }
      ]
    },
    {
      "cell_type": "code",
      "source": [
        "df['Age'].describe()"
      ],
      "metadata": {
        "colab": {
          "base_uri": "https://localhost:8080/"
        },
        "id": "1kCBxqPOsJ1i",
        "outputId": "ccc78ab2-4eeb-40a4-91d6-1ac4fc2f9802"
      },
      "execution_count": 45,
      "outputs": [
        {
          "output_type": "execute_result",
          "data": {
            "text/plain": [
              "count    8514.000000\n",
              "mean       28.827930\n",
              "std        14.489021\n",
              "min         0.000000\n",
              "25%        19.000000\n",
              "50%        27.000000\n",
              "75%        38.000000\n",
              "max        79.000000\n",
              "Name: Age, dtype: float64"
            ]
          },
          "metadata": {},
          "execution_count": 45
        }
      ]
    },
    {
      "cell_type": "code",
      "source": [
        "df_droppedColumns = df.drop(['PassengerId', 'Name'], axis=1)"
      ],
      "metadata": {
        "id": "oueh5VbgkObX"
      },
      "execution_count": 46,
      "outputs": []
    },
    {
      "cell_type": "code",
      "source": [
        "sns.heatmap(df_droppedColumns.corr(numeric_only=True), annot=True, cmap='coolwarm')\n",
        "#Check correlations"
      ],
      "metadata": {
        "colab": {
          "base_uri": "https://localhost:8080/",
          "height": 534
        },
        "id": "dkKMx4LE4ZJ-",
        "outputId": "7af01451-caae-4749-d191-e265fa7743c0"
      },
      "execution_count": 47,
      "outputs": [
        {
          "output_type": "execute_result",
          "data": {
            "text/plain": [
              "<Axes: >"
            ]
          },
          "metadata": {},
          "execution_count": 47
        },
        {
          "output_type": "display_data",
          "data": {
            "text/plain": [
              "<Figure size 640x480 with 2 Axes>"
            ],
            "image/png": "[encoded data removed]"
          },
          "metadata": {}
        }
      ]
    },
    {
      "cell_type": "code",
      "source": [
        "df_droppedColumns.head()"
      ],
      "metadata": {
        "colab": {
          "base_uri": "https://localhost:8080/",
          "height": 275
        },
        "id": "2tmr2MWYmkot",
        "outputId": "588190a0-aeba-4af7-f3c7-77f401e2a70e"
      },
      "execution_count": 48,
      "outputs": [
        {
          "output_type": "execute_result",
          "data": {
            "text/plain": [
              "  HomePlanet CryoSleep  Destination   Age    VIP  RoomService  FoodCourt  \\\n",
              "0     Europa     False  TRAPPIST-1e  39.0  False          0.0        0.0   \n",
              "1      Earth     False  TRAPPIST-1e  24.0  False        109.0        9.0   \n",
              "2     Europa     False  TRAPPIST-1e  58.0   True         43.0     3576.0   \n",
              "3     Europa     False  TRAPPIST-1e  33.0  False          0.0     1283.0   \n",
              "4      Earth     False  TRAPPIST-1e  16.0  False        303.0       70.0   \n",
              "\n",
              "   ShoppingMall     Spa  VRDeck  Transported  AmountSpent    HomeDestination  \\\n",
              "0           0.0     0.0     0.0        False          0.0  EuropaTRAPPIST-1e   \n",
              "1          25.0   549.0    44.0         True        736.0   EarthTRAPPIST-1e   \n",
              "2           0.0  6715.0    49.0        False      10383.0  EuropaTRAPPIST-1e   \n",
              "3         371.0  3329.0   193.0        False       5176.0  EuropaTRAPPIST-1e   \n",
              "4         151.0   565.0     2.0         True       1091.0   EarthTRAPPIST-1e   \n",
              "\n",
              "   SpentMoney Deck Num Side  WealthClass  \n",
              "0       False    B   0    P            1  \n",
              "1        True    F   0    S            2  \n",
              "2        True    A   0    S            3  \n",
              "3        True    A   0    S            3  \n",
              "4        True    F   1    S            3  "
            ],
            "text/html": [
              "\n",
              "  <div id=\"df-029d51f4-e6f3-49de-ae4e-3c5ebe485ac6\" class=\"colab-df-container\">\n",
              "    <div>\n",
              "<style scoped>\n",
              "    .dataframe tbody tr th:only-of-type {\n",
              "        vertical-align: middle;\n",
              "    }\n",
              "\n",
              "    .dataframe tbody tr th {\n",
              "        vertical-align: top;\n",
              "    }\n",
              "\n",
              "    .dataframe thead th {\n",
              "        text-align: right;\n",
              "    }\n",
              "</style>\n",
              "<table border=\"1\" class=\"dataframe\">\n",
              "  <thead>\n",
              "    <tr style=\"text-align: right;\">\n",
              "      <th></th>\n",
              "      <th>HomePlanet</th>\n",
              "      <th>CryoSleep</th>\n",
              "      <th>Destination</th>\n",
              "      <th>Age</th>\n",
              "      <th>VIP</th>\n",
              "      <th>RoomService</th>\n",
              "      <th>FoodCourt</th>\n",
              "      <th>ShoppingMall</th>\n",
              "      <th>Spa</th>\n",
              "      <th>VRDeck</th>\n",
              "      <th>Transported</th>\n",
              "      <th>AmountSpent</th>\n",
              "      <th>HomeDestination</th>\n",
              "      <th>SpentMoney</th>\n",
              "      <th>Deck</th>\n",
              "      <th>Num</th>\n",
              "      <th>Side</th>\n",
              "      <th>WealthClass</th>\n",
              "    </tr>\n",
              "  </thead>\n",
              "  <tbody>\n",
              "    <tr>\n",
              "      <th>0</th>\n",
              "      <td>Europa</td>\n",
              "      <td>False</td>\n",
              "      <td>TRAPPIST-1e</td>\n",
              "      <td>39.0</td>\n",
              "      <td>False</td>\n",
              "      <td>0.0</td>\n",
              "      <td>0.0</td>\n",
              "      <td>0.0</td>\n",
              "      <td>0.0</td>\n",
              "      <td>0.0</td>\n",
              "      <td>False</td>\n",
              "      <td>0.0</td>\n",
              "      <td>EuropaTRAPPIST-1e</td>\n",
              "      <td>False</td>\n",
              "      <td>B</td>\n",
              "      <td>0</td>\n",
              "      <td>P</td>\n",
              "      <td>1</td>\n",
              "    </tr>\n",
              "    <tr>\n",
              "      <th>1</th>\n",
              "      <td>Earth</td>\n",
              "      <td>False</td>\n",
              "      <td>TRAPPIST-1e</td>\n",
              "      <td>24.0</td>\n",
              "      <td>False</td>\n",
              "      <td>109.0</td>\n",
              "      <td>9.0</td>\n",
              "      <td>25.0</td>\n",
              "      <td>549.0</td>\n",
              "      <td>44.0</td>\n",
              "      <td>True</td>\n",
              "      <td>736.0</td>\n",
              "      <td>EarthTRAPPIST-1e</td>\n",
              "      <td>True</td>\n",
              "      <td>F</td>\n",
              "      <td>0</td>\n",
              "      <td>S</td>\n",
              "      <td>2</td>\n",
              "    </tr>\n",
              "    <tr>\n",
              "      <th>2</th>\n",
              "      <td>Europa</td>\n",
              "      <td>False</td>\n",
              "      <td>TRAPPIST-1e</td>\n",
              "      <td>58.0</td>\n",
              "      <td>True</td>\n",
              "      <td>43.0</td>\n",
              "      <td>3576.0</td>\n",
              "      <td>0.0</td>\n",
              "      <td>6715.0</td>\n",
              "      <td>49.0</td>\n",
              "      <td>False</td>\n",
              "      <td>10383.0</td>\n",
              "      <td>EuropaTRAPPIST-1e</td>\n",
              "      <td>True</td>\n",
              "      <td>A</td>\n",
              "      <td>0</td>\n",
              "      <td>S</td>\n",
              "      <td>3</td>\n",
              "    </tr>\n",
              "    <tr>\n",
              "      <th>3</th>\n",
              "      <td>Europa</td>\n",
              "      <td>False</td>\n",
              "      <td>TRAPPIST-1e</td>\n",
              "      <td>33.0</td>\n",
              "      <td>False</td>\n",
              "      <td>0.0</td>\n",
              "      <td>1283.0</td>\n",
              "      <td>371.0</td>\n",
              "      <td>3329.0</td>\n",
              "      <td>193.0</td>\n",
              "      <td>False</td>\n",
              "      <td>5176.0</td>\n",
              "      <td>EuropaTRAPPIST-1e</td>\n",
              "      <td>True</td>\n",
              "      <td>A</td>\n",
              "      <td>0</td>\n",
              "      <td>S</td>\n",
              "      <td>3</td>\n",
              "    </tr>\n",
              "    <tr>\n",
              "      <th>4</th>\n",
              "      <td>Earth</td>\n",
              "      <td>False</td>\n",
              "      <td>TRAPPIST-1e</td>\n",
              "      <td>16.0</td>\n",
              "      <td>False</td>\n",
              "      <td>303.0</td>\n",
              "      <td>70.0</td>\n",
              "      <td>151.0</td>\n",
              "      <td>565.0</td>\n",
              "      <td>2.0</td>\n",
              "      <td>True</td>\n",
              "      <td>1091.0</td>\n",
              "      <td>EarthTRAPPIST-1e</td>\n",
              "      <td>True</td>\n",
              "      <td>F</td>\n",
              "      <td>1</td>\n",
              "      <td>S</td>\n",
              "      <td>3</td>\n",
              "    </tr>\n",
              "  </tbody>\n",
              "</table>\n",
              "</div>\n",
              "    <div class=\"colab-df-buttons\">\n",
              "\n",
              "  <div class=\"colab-df-container\">\n",
              "    <button class=\"colab-df-convert\" onclick=\"convertToInteractive('df-029d51f4-e6f3-49de-ae4e-3c5ebe485ac6')\"\n",
              "            title=\"Convert this dataframe to an interactive table.\"\n",
              "            style=\"display:none;\">\n",
              "\n",
              "  <svg xmlns=\"http://www.w3.org/2000/svg\" height=\"24px\" viewBox=\"0 -960 960 960\">\n",
              "    <path d=\"M120-120v-720h720v720H120Zm60-500h600v-160H180v160Zm220 220h160v-160H400v160Zm0 220h160v-160H400v160ZM180-400h160v-160H180v160Zm440 0h160v-160H620v160ZM180-180h160v-160H180v160Zm440 0h160v-160H620v160Z\"/>\n",
              "  </svg>\n",
              "    </button>\n",
              "\n",
              "  <style>\n",
              "    .colab-df-container {\n",
              "      display:flex;\n",
              "      gap: 12px;\n",
              "    }\n",
              "\n",
              "    .colab-df-convert {\n",
              "      background-color: #E8F0FE;\n",
              "      border: none;\n",
              "      border-radius: 50%;\n",
              "      cursor: pointer;\n",
              "      display: none;\n",
              "      fill: #1967D2;\n",
              "      height: 32px;\n",
              "      padding: 0 0 0 0;\n",
              "      width: 32px;\n",
              "    }\n",
              "\n",
              "    .colab-df-convert:hover {\n",
              "      background-color: #E2EBFA;\n",
              "      box-shadow: 0px 1px 2px rgba(60, 64, 67, 0.3), 0px 1px 3px 1px rgba(60, 64, 67, 0.15);\n",
              "      fill: #174EA6;\n",
              "    }\n",
              "\n",
              "    .colab-df-buttons div {\n",
              "      margin-bottom: 4px;\n",
              "    }\n",
              "\n",
              "    [theme=dark] .colab-df-convert {\n",
              "      background-color: #3B4455;\n",
              "      fill: #D2E3FC;\n",
              "    }\n",
              "\n",
              "    [theme=dark] .colab-df-convert:hover {\n",
              "      background-color: #434B5C;\n",
              "      box-shadow: 0px 1px 3px 1px rgba(0, 0, 0, 0.15);\n",
              "      filter: drop-shadow(0px 1px 2px rgba(0, 0, 0, 0.3));\n",
              "      fill: #FFFFFF;\n",
              "    }\n",
              "  </style>\n",
              "\n",
              "    <script>\n",
              "      const buttonEl =\n",
              "        document.querySelector('#df-029d51f4-e6f3-49de-ae4e-3c5ebe485ac6 button.colab-df-convert');\n",
              "      buttonEl.style.display =\n",
              "        google.colab.kernel.accessAllowed ? 'block' : 'none';\n",
              "\n",
              "      async function convertToInteractive(key) {\n",
              "        const element = document.querySelector('#df-029d51f4-e6f3-49de-ae4e-3c5ebe485ac6');\n",
              "        const dataTable =\n",
              "          await google.colab.kernel.invokeFunction('convertToInteractive',\n",
              "                                                    [key], {});\n",
              "        if (!dataTable) return;\n",
              "\n",
              "        const docLinkHtml = 'Like what you see? Visit the ' +\n",
              "          '<a target=\"_blank\" href=https://colab.research.google.com/notebooks/data_table.ipynb>data table notebook</a>'\n",
              "          + ' to learn more about interactive tables.';\n",
              "        element.innerHTML = '';\n",
              "        dataTable['output_type'] = 'display_data';\n",
              "        await google.colab.output.renderOutput(dataTable, element);\n",
              "        const docLink = document.createElement('div');\n",
              "        docLink.innerHTML = docLinkHtml;\n",
              "        element.appendChild(docLink);\n",
              "      }\n",
              "    </script>\n",
              "  </div>\n",
              "\n",
              "\n",
              "<div id=\"df-b44f7c31-4159-4f18-83d8-ac7816914d16\">\n",
              "  <button class=\"colab-df-quickchart\" onclick=\"quickchart('df-b44f7c31-4159-4f18-83d8-ac7816914d16')\"\n",
              "            title=\"Suggest charts\"\n",
              "            style=\"display:none;\">\n",
              "\n",
              "<svg xmlns=\"http://www.w3.org/2000/svg\" height=\"24px\"viewBox=\"0 0 24 24\"\n",
              "     width=\"24px\">\n",
              "    <g>\n",
              "        <path d=\"M19 3H5c-1.1 0-2 .9-2 2v14c0 1.1.9 2 2 2h14c1.1 0 2-.9 2-2V5c0-1.1-.9-2-2-2zM9 17H7v-7h2v7zm4 0h-2V7h2v10zm4 0h-2v-4h2v4z\"/>\n",
              "    </g>\n",
              "</svg>\n",
              "  </button>\n",
              "\n",
              "<style>\n",
              "  .colab-df-quickchart {\n",
              "      --bg-color: #E8F0FE;\n",
              "      --fill-color: #1967D2;\n",
              "      --hover-bg-color: #E2EBFA;\n",
              "      --hover-fill-color: #174EA6;\n",
              "      --disabled-fill-color: #AAA;\n",
              "      --disabled-bg-color: #DDD;\n",
              "  }\n",
              "\n",
              "  [theme=dark] .colab-df-quickchart {\n",
              "      --bg-color: #3B4455;\n",
              "      --fill-color: #D2E3FC;\n",
              "      --hover-bg-color: #434B5C;\n",
              "      --hover-fill-color: #FFFFFF;\n",
              "      --disabled-bg-color: #3B4455;\n",
              "      --disabled-fill-color: #666;\n",
              "  }\n",
              "\n",
              "  .colab-df-quickchart {\n",
              "    background-color: var(--bg-color);\n",
              "    border: none;\n",
              "    border-radius: 50%;\n",
              "    cursor: pointer;\n",
              "    display: none;\n",
              "    fill: var(--fill-color);\n",
              "    height: 32px;\n",
              "    padding: 0;\n",
              "    width: 32px;\n",
              "  }\n",
              "\n",
              "  .colab-df-quickchart:hover {\n",
              "    background-color: var(--hover-bg-color);\n",
              "    box-shadow: 0 1px 2px rgba(60, 64, 67, 0.3), 0 1px 3px 1px rgba(60, 64, 67, 0.15);\n",
              "    fill: var(--button-hover-fill-color);\n",
              "  }\n",
              "\n",
              "  .colab-df-quickchart-complete:disabled,\n",
              "  .colab-df-quickchart-complete:disabled:hover {\n",
              "    background-color: var(--disabled-bg-color);\n",
              "    fill: var(--disabled-fill-color);\n",
              "    box-shadow: none;\n",
              "  }\n",
              "\n",
              "  .colab-df-spinner {\n",
              "    border: 2px solid var(--fill-color);\n",
              "    border-color: transparent;\n",
              "    border-bottom-color: var(--fill-color);\n",
              "    animation:\n",
              "      spin 1s steps(1) infinite;\n",
              "  }\n",
              "\n",
              "  @keyframes spin {\n",
              "    0% {\n",
              "      border-color: transparent;\n",
              "      border-bottom-color: var(--fill-color);\n",
              "      border-left-color: var(--fill-color);\n",
              "    }\n",
              "    20% {\n",
              "      border-color: transparent;\n",
              "      border-left-color: var(--fill-color);\n",
              "      border-top-color: var(--fill-color);\n",
              "    }\n",
              "    30% {\n",
              "      border-color: transparent;\n",
              "      border-left-color: var(--fill-color);\n",
              "      border-top-color: var(--fill-color);\n",
              "      border-right-color: var(--fill-color);\n",
              "    }\n",
              "    40% {\n",
              "      border-color: transparent;\n",
              "      border-right-color: var(--fill-color);\n",
              "      border-top-color: var(--fill-color);\n",
              "    }\n",
              "    60% {\n",
              "      border-color: transparent;\n",
              "      border-right-color: var(--fill-color);\n",
              "    }\n",
              "    80% {\n",
              "      border-color: transparent;\n",
              "      border-right-color: var(--fill-color);\n",
              "      border-bottom-color: var(--fill-color);\n",
              "    }\n",
              "    90% {\n",
              "      border-color: transparent;\n",
              "      border-bottom-color: var(--fill-color);\n",
              "    }\n",
              "  }\n",
              "</style>\n",
              "\n",
              "  <script>\n",
              "    async function quickchart(key) {\n",
              "      const quickchartButtonEl =\n",
              "        document.querySelector('#' + key + ' button');\n",
              "      quickchartButtonEl.disabled = true;  // To prevent multiple clicks.\n",
              "      quickchartButtonEl.classList.add('colab-df-spinner');\n",
              "      try {\n",
              "        const charts = await google.colab.kernel.invokeFunction(\n",
              "            'suggestCharts', [key], {});\n",
              "      } catch (error) {\n",
              "        console.error('Error during call to suggestCharts:', error);\n",
              "      }\n",
              "      quickchartButtonEl.classList.remove('colab-df-spinner');\n",
              "      quickchartButtonEl.classList.add('colab-df-quickchart-complete');\n",
              "    }\n",
              "    (() => {\n",
              "      let quickchartButtonEl =\n",
              "        document.querySelector('#df-b44f7c31-4159-4f18-83d8-ac7816914d16 button');\n",
              "      quickchartButtonEl.style.display =\n",
              "        google.colab.kernel.accessAllowed ? 'block' : 'none';\n",
              "    })();\n",
              "  </script>\n",
              "</div>\n",
              "\n",
              "    </div>\n",
              "  </div>\n"
            ],
            "application/vnd.google.colaboratory.intrinsic+json": {
              "type": "dataframe",
              "variable_name": "df_droppedColumns",
              "summary": "{\n  \"name\": \"df_droppedColumns\",\n  \"rows\": 8693,\n  \"fields\": [\n    {\n      \"column\": \"HomePlanet\",\n      \"properties\": {\n        \"dtype\": \"category\",\n        \"num_unique_values\": 3,\n        \"samples\": [\n          \"Europa\",\n          \"Earth\",\n          \"Mars\"\n        ],\n        \"semantic_type\": \"\",\n        \"description\": \"\"\n      }\n    },\n    {\n      \"column\": \"CryoSleep\",\n      \"properties\": {\n        \"dtype\": \"category\",\n        \"num_unique_values\": 2,\n        \"samples\": [\n          true,\n          false\n        ],\n        \"semantic_type\": \"\",\n        \"description\": \"\"\n      }\n    },\n    {\n      \"column\": \"Destination\",\n      \"properties\": {\n        \"dtype\": \"category\",\n        \"num_unique_values\": 3,\n        \"samples\": [\n          \"TRAPPIST-1e\",\n          \"PSO J318.5-22\"\n        ],\n        \"semantic_type\": \"\",\n        \"description\": \"\"\n      }\n    },\n    {\n      \"column\": \"Age\",\n      \"properties\": {\n        \"dtype\": \"number\",\n        \"std\": 14.48902142390878,\n        \"min\": 0.0,\n        \"max\": 79.0,\n        \"num_unique_values\": 80,\n        \"samples\": [\n          30.0,\n          39.0\n        ],\n        \"semantic_type\": \"\",\n        \"description\": \"\"\n      }\n    },\n    {\n      \"column\": \"VIP\",\n      \"properties\": {\n        \"dtype\": \"category\",\n        \"num_unique_values\": 2,\n        \"samples\": [\n          true,\n          false\n        ],\n        \"semantic_type\": \"\",\n        \"description\": \"\"\n      }\n    },\n    {\n      \"column\": \"RoomService\",\n      \"properties\": {\n        \"dtype\": \"number\",\n        \"std\": 666.7176629280652,\n        \"min\": 0.0,\n        \"max\": 14327.0,\n        \"num_unique_values\": 1273,\n        \"samples\": [\n          2103.0,\n          1720.0\n        ],\n        \"semantic_type\": \"\",\n        \"description\": \"\"\n      }\n    },\n    {\n      \"column\": \"FoodCourt\",\n      \"properties\": {\n        \"dtype\": \"number\",\n        \"std\": 1611.4892403550716,\n        \"min\": 0.0,\n        \"max\": 29813.0,\n        \"num_unique_values\": 1507,\n        \"samples\": [\n          61.0,\n          783.0\n        ],\n        \"semantic_type\": \"\",\n        \"description\": \"\"\n      }\n    },\n    {\n      \"column\": \"ShoppingMall\",\n      \"properties\": {\n        \"dtype\": \"number\",\n        \"std\": 604.6964584708243,\n        \"min\": 0.0,\n        \"max\": 23492.0,\n        \"num_unique_values\": 1115,\n        \"samples\": [\n          619.0,\n          356.0\n        ],\n        \"semantic_type\": \"\",\n        \"description\": \"\"\n      }\n    },\n    {\n      \"column\": \"Spa\",\n      \"properties\": {\n        \"dtype\": \"number\",\n        \"std\": 1136.7055348344065,\n        \"min\": 0.0,\n        \"max\": 22408.0,\n        \"num_unique_values\": 1327,\n        \"samples\": [\n          190.0,\n          622.0\n        ],\n        \"semantic_type\": \"\",\n        \"description\": \"\"\n      }\n    },\n    {\n      \"column\": \"VRDeck\",\n      \"properties\": {\n        \"dtype\": \"number\",\n        \"std\": 1145.7171888056614,\n        \"min\": 0.0,\n        \"max\": 24133.0,\n        \"num_unique_values\": 1306,\n        \"samples\": [\n          977.0,\n          624.0\n        ],\n        \"semantic_type\": \"\",\n        \"description\": \"\"\n      }\n    },\n    {\n      \"column\": \"Transported\",\n      \"properties\": {\n        \"dtype\": \"boolean\",\n        \"num_unique_values\": 2,\n        \"samples\": [\n          true,\n          false\n        ],\n        \"semantic_type\": \"\",\n        \"description\": \"\"\n      }\n    },\n    {\n      \"column\": \"AmountSpent\",\n      \"properties\": {\n        \"dtype\": \"number\",\n        \"std\": 2845.2882407440607,\n        \"min\": 0.0,\n        \"max\": 35987.0,\n        \"num_unique_values\": 2116,\n        \"samples\": [\n          5528.0,\n          1773.0\n        ],\n        \"semantic_type\": \"\",\n        \"description\": \"\"\n      }\n    },\n    {\n      \"column\": \"HomeDestination\",\n      \"properties\": {\n        \"dtype\": \"category\",\n        \"num_unique_values\": 9,\n        \"samples\": [\n          \"MarsPSO J318.5-22\",\n          \"EarthTRAPPIST-1e\"\n        ],\n        \"semantic_type\": \"\",\n        \"description\": \"\"\n      }\n    },\n    {\n      \"column\": \"SpentMoney\",\n      \"properties\": {\n        \"dtype\": \"boolean\",\n        \"num_unique_values\": 2,\n        \"samples\": [\n          true,\n          false\n        ],\n        \"semantic_type\": \"\",\n        \"description\": \"\"\n      }\n    },\n    {\n      \"column\": \"Deck\",\n      \"properties\": {\n        \"dtype\": \"category\",\n        \"num_unique_values\": 8,\n        \"samples\": [\n          \"F\",\n          \"D\"\n        ],\n        \"semantic_type\": \"\",\n        \"description\": \"\"\n      }\n    },\n    {\n      \"column\": \"Num\",\n      \"properties\": {\n        \"dtype\": \"category\",\n        \"num_unique_values\": 1817,\n        \"samples\": [\n          \"1605\",\n          \"723\"\n        ],\n        \"semantic_type\": \"\",\n        \"description\": \"\"\n      }\n    },\n    {\n      \"column\": \"Side\",\n      \"properties\": {\n        \"dtype\": \"category\",\n        \"num_unique_values\": 2,\n        \"samples\": [\n          \"S\",\n          \"P\"\n        ],\n        \"semantic_type\": \"\",\n        \"description\": \"\"\n      }\n    },\n    {\n      \"column\": \"WealthClass\",\n      \"properties\": {\n        \"dtype\": \"number\",\n        \"std\": 0,\n        \"min\": 1,\n        \"max\": 3,\n        \"num_unique_values\": 3,\n        \"samples\": [\n          1,\n          2\n        ],\n        \"semantic_type\": \"\",\n        \"description\": \"\"\n      }\n    }\n  ]\n}"
            }
          },
          "metadata": {},
          "execution_count": 48
        }
      ]
    },
    {
      "cell_type": "code",
      "source": [
        "categorical_features = df_droppedColumns.select_dtypes(include=[object])\n",
        "numerical_features = df_droppedColumns.select_dtypes(include=[np.number])\n",
        "\n",
        "categorical_pipeline = Pipeline([\n",
        "    ('imputer', SimpleImputer(strategy='most_frequent')),\n",
        "    ('encoder', OneHotEncoder(handle_unknown='ignore')),\n",
        "])\n",
        "\n",
        "numerical_pipeline = Pipeline([\n",
        "    ('imputer', SimpleImputer(strategy='mean')),\n",
        "    ('scaler', StandardScaler())\n",
        "])\n",
        "\n",
        "preprocessor1 = ColumnTransformer([\n",
        "    ('categorical', categorical_pipeline, categorical_features.columns),\n",
        "    ('numerical', numerical_pipeline, numerical_features.columns)\n",
        "], remainder='passthrough')\n",
        "\n",
        "X = df_droppedColumns.drop('Transported', axis=1)\n",
        "y = df_droppedColumns['Transported']\n",
        "\n",
        "df_preprocessed = preprocessor1.fit_transform(X)"
      ],
      "metadata": {
        "id": "cwcz-ulok4Vl"
      },
      "execution_count": 51,
      "outputs": []
    },
    {
      "cell_type": "code",
      "source": [
        "X_train, X_test, y_train, y_test = train_test_split(df_preprocessed, y, test_size=0.2, random_state=42)\n",
        "\n",
        "xgb_model = xgb.XGBClassifier()\n",
        "\n",
        "xgb_param_grid ={\n",
        "    'n_estimators': [200],\n",
        "    'max_depth': [3],\n",
        "    'learning_rate': [.2],\n",
        "    'subsample': [1.0],\n",
        "    'min_child_weight': [2]\n",
        "}\n",
        "\n",
        "rfc = RandomForestClassifier()\n",
        "catc = cb.CatBoostClassifier()\n",
        "\n",
        "rfc_param_grid = {\n",
        "    'n_estimators': [75],\n",
        "    'max_depth': [2],\n",
        "    'min_samples_split': [2]\n",
        "}\n",
        "\n",
        "catc_param_grid = {\n",
        "    'iterations': [100],\n",
        "    'learning_rate': [.1]\n",
        "}\n",
        "\n",
        "xgb_grid_search = GridSearchCV(xgb_model, xgb_param_grid, cv=5, scoring='accuracy', n_jobs=-1)\n",
        "xgb_grid_search.fit(X_train, y_train)\n",
        "\n",
        "rfc_grid_search = GridSearchCV(rfc, rfc_param_grid, cv=5, scoring='accuracy', n_jobs=-1, error_score=\"raise\")\n",
        "rfc_grid_search.fit(X_train, y_train)\n",
        "\n",
        "catc_grid_search = GridSearchCV(catc, catc_param_grid, cv=10, scoring='accuracy', n_jobs=-1, error_score='raise')\n",
        "catc_grid_search.fit(X_train, y_train)\n",
        "\n",
        "print(\"Best parameters for XGBoost:\", xgb_grid_search.best_params_)\n",
        "print(\"Best score for XGBoost:\", xgb_grid_search.best_score_)\n",
        "\n",
        "print(\"Best parameters for Random Forest:\", rfc_grid_search.best_params_)\n",
        "print(\"Best score for Random Forest:\", rfc_grid_search.best_score_)\n",
        "\n",
        "print(\"Best parameters for CatBoost:\", catc_grid_search.best_params_)\n",
        "print(\"Best score for CatBoost:\", catc_grid_search.best_score_)\n",
        "\n",
        "#xgb - .8106 with 5 cv\n",
        "#cat - .81119 with 10 cv"
      ],
      "metadata": {
        "id": "OsN1XFszl1Pq",
        "colab": {
          "base_uri": "https://localhost:8080/"
        },
        "outputId": "125bfee5-e78d-490f-805b-6f3575b9603d"
      },
      "execution_count": 52,
      "outputs": [
        {
          "output_type": "stream",
          "name": "stdout",
          "text": [
            "0:\tlearn: 0.6487103\ttotal: 22.6ms\tremaining: 2.24s\n",
            "1:\tlearn: 0.6121856\ttotal: 42.4ms\tremaining: 2.08s\n",
            "2:\tlearn: 0.5874140\ttotal: 61.9ms\tremaining: 2s\n",
            "3:\tlearn: 0.5663271\ttotal: 85.4ms\tremaining: 2.05s\n",
            "4:\tlearn: 0.5460628\ttotal: 106ms\tremaining: 2.01s\n",
            "5:\tlearn: 0.5286691\ttotal: 130ms\tremaining: 2.04s\n",
            "6:\tlearn: 0.5166707\ttotal: 153ms\tremaining: 2.03s\n",
            "7:\tlearn: 0.5051278\ttotal: 176ms\tremaining: 2.02s\n",
            "8:\tlearn: 0.4918033\ttotal: 199ms\tremaining: 2.01s\n",
            "9:\tlearn: 0.4837143\ttotal: 225ms\tremaining: 2.03s\n",
            "10:\tlearn: 0.4751928\ttotal: 248ms\tremaining: 2.01s\n",
            "11:\tlearn: 0.4678089\ttotal: 271ms\tremaining: 1.99s\n",
            "12:\tlearn: 0.4621262\ttotal: 294ms\tremaining: 1.97s\n",
            "13:\tlearn: 0.4573416\ttotal: 314ms\tremaining: 1.93s\n",
            "14:\tlearn: 0.4544032\ttotal: 335ms\tremaining: 1.9s\n",
            "15:\tlearn: 0.4505273\ttotal: 357ms\tremaining: 1.88s\n",
            "16:\tlearn: 0.4469964\ttotal: 381ms\tremaining: 1.86s\n",
            "17:\tlearn: 0.4429003\ttotal: 407ms\tremaining: 1.85s\n",
            "18:\tlearn: 0.4398500\ttotal: 427ms\tremaining: 1.82s\n",
            "19:\tlearn: 0.4375140\ttotal: 450ms\tremaining: 1.8s\n",
            "20:\tlearn: 0.4343864\ttotal: 477ms\tremaining: 1.79s\n",
            "21:\tlearn: 0.4309610\ttotal: 503ms\tremaining: 1.78s\n",
            "22:\tlearn: 0.4277980\ttotal: 532ms\tremaining: 1.78s\n",
            "23:\tlearn: 0.4249880\ttotal: 553ms\tremaining: 1.75s\n",
            "24:\tlearn: 0.4223508\ttotal: 577ms\tremaining: 1.73s\n",
            "25:\tlearn: 0.4208085\ttotal: 605ms\tremaining: 1.72s\n",
            "26:\tlearn: 0.4196663\ttotal: 627ms\tremaining: 1.7s\n",
            "27:\tlearn: 0.4182191\ttotal: 651ms\tremaining: 1.67s\n",
            "28:\tlearn: 0.4164142\ttotal: 684ms\tremaining: 1.67s\n",
            "29:\tlearn: 0.4126996\ttotal: 712ms\tremaining: 1.66s\n",
            "30:\tlearn: 0.4117014\ttotal: 733ms\tremaining: 1.63s\n",
            "31:\tlearn: 0.4100184\ttotal: 757ms\tremaining: 1.61s\n",
            "32:\tlearn: 0.4066793\ttotal: 787ms\tremaining: 1.6s\n",
            "33:\tlearn: 0.4055836\ttotal: 814ms\tremaining: 1.58s\n",
            "34:\tlearn: 0.4046272\ttotal: 846ms\tremaining: 1.57s\n",
            "35:\tlearn: 0.4034083\ttotal: 873ms\tremaining: 1.55s\n",
            "36:\tlearn: 0.4018973\ttotal: 902ms\tremaining: 1.53s\n",
            "37:\tlearn: 0.4004315\ttotal: 929ms\tremaining: 1.51s\n",
            "38:\tlearn: 0.4000467\ttotal: 952ms\tremaining: 1.49s\n",
            "39:\tlearn: 0.3993361\ttotal: 982ms\tremaining: 1.47s\n",
            "40:\tlearn: 0.3989864\ttotal: 1.01s\tremaining: 1.45s\n",
            "41:\tlearn: 0.3985263\ttotal: 1.03s\tremaining: 1.42s\n",
            "42:\tlearn: 0.3972114\ttotal: 1.05s\tremaining: 1.4s\n",
            "43:\tlearn: 0.3954168\ttotal: 1.07s\tremaining: 1.36s\n",
            "44:\tlearn: 0.3933227\ttotal: 1.1s\tremaining: 1.34s\n",
            "45:\tlearn: 0.3929425\ttotal: 1.12s\tremaining: 1.32s\n",
            "46:\tlearn: 0.3921493\ttotal: 1.15s\tremaining: 1.3s\n",
            "47:\tlearn: 0.3913133\ttotal: 1.17s\tremaining: 1.27s\n",
            "48:\tlearn: 0.3903368\ttotal: 1.2s\tremaining: 1.25s\n",
            "49:\tlearn: 0.3898479\ttotal: 1.22s\tremaining: 1.22s\n",
            "50:\tlearn: 0.3887537\ttotal: 1.25s\tremaining: 1.2s\n",
            "51:\tlearn: 0.3884333\ttotal: 1.26s\tremaining: 1.17s\n",
            "52:\tlearn: 0.3874016\ttotal: 1.28s\tremaining: 1.14s\n",
            "53:\tlearn: 0.3868561\ttotal: 1.3s\tremaining: 1.11s\n",
            "54:\tlearn: 0.3864162\ttotal: 1.32s\tremaining: 1.08s\n",
            "55:\tlearn: 0.3857168\ttotal: 1.35s\tremaining: 1.06s\n",
            "56:\tlearn: 0.3854336\ttotal: 1.37s\tremaining: 1.03s\n",
            "57:\tlearn: 0.3847934\ttotal: 1.4s\tremaining: 1.01s\n",
            "58:\tlearn: 0.3844187\ttotal: 1.42s\tremaining: 985ms\n",
            "59:\tlearn: 0.3842016\ttotal: 1.44s\tremaining: 959ms\n",
            "60:\tlearn: 0.3836002\ttotal: 1.46s\tremaining: 934ms\n",
            "61:\tlearn: 0.3833699\ttotal: 1.48s\tremaining: 907ms\n",
            "62:\tlearn: 0.3830217\ttotal: 1.5s\tremaining: 881ms\n",
            "63:\tlearn: 0.3829407\ttotal: 1.52s\tremaining: 855ms\n",
            "64:\tlearn: 0.3827762\ttotal: 1.55s\tremaining: 834ms\n",
            "65:\tlearn: 0.3819444\ttotal: 1.57s\tremaining: 810ms\n",
            "66:\tlearn: 0.3812570\ttotal: 1.59s\tremaining: 784ms\n",
            "67:\tlearn: 0.3809348\ttotal: 1.62s\tremaining: 763ms\n",
            "68:\tlearn: 0.3804810\ttotal: 1.65s\tremaining: 740ms\n",
            "69:\tlearn: 0.3802660\ttotal: 1.67s\tremaining: 715ms\n",
            "70:\tlearn: 0.3792839\ttotal: 1.69s\tremaining: 692ms\n",
            "71:\tlearn: 0.3788818\ttotal: 1.72s\tremaining: 668ms\n",
            "72:\tlearn: 0.3787522\ttotal: 1.74s\tremaining: 644ms\n",
            "73:\tlearn: 0.3783369\ttotal: 1.76s\tremaining: 620ms\n",
            "74:\tlearn: 0.3782267\ttotal: 1.79s\tremaining: 596ms\n",
            "75:\tlearn: 0.3777271\ttotal: 1.81s\tremaining: 572ms\n",
            "76:\tlearn: 0.3771765\ttotal: 1.84s\tremaining: 550ms\n",
            "77:\tlearn: 0.3767167\ttotal: 1.86s\tremaining: 526ms\n",
            "78:\tlearn: 0.3766087\ttotal: 1.89s\tremaining: 503ms\n",
            "79:\tlearn: 0.3764108\ttotal: 1.91s\tremaining: 478ms\n",
            "80:\tlearn: 0.3761929\ttotal: 1.94s\tremaining: 454ms\n",
            "81:\tlearn: 0.3756416\ttotal: 1.97s\tremaining: 432ms\n",
            "82:\tlearn: 0.3751949\ttotal: 2s\tremaining: 410ms\n",
            "83:\tlearn: 0.3748120\ttotal: 2.03s\tremaining: 386ms\n",
            "84:\tlearn: 0.3744719\ttotal: 2.05s\tremaining: 361ms\n",
            "85:\tlearn: 0.3742406\ttotal: 2.07s\tremaining: 337ms\n",
            "86:\tlearn: 0.3739068\ttotal: 2.1s\tremaining: 314ms\n",
            "87:\tlearn: 0.3735553\ttotal: 2.12s\tremaining: 289ms\n",
            "88:\tlearn: 0.3733268\ttotal: 2.15s\tremaining: 265ms\n",
            "89:\tlearn: 0.3730825\ttotal: 2.17s\tremaining: 241ms\n",
            "90:\tlearn: 0.3729288\ttotal: 2.19s\tremaining: 217ms\n",
            "91:\tlearn: 0.3727041\ttotal: 2.22s\tremaining: 193ms\n",
            "92:\tlearn: 0.3720705\ttotal: 2.24s\tremaining: 169ms\n",
            "93:\tlearn: 0.3718297\ttotal: 2.27s\tremaining: 145ms\n",
            "94:\tlearn: 0.3715484\ttotal: 2.29s\tremaining: 121ms\n",
            "95:\tlearn: 0.3711953\ttotal: 2.32s\tremaining: 96.6ms\n",
            "96:\tlearn: 0.3709778\ttotal: 2.34s\tremaining: 72.4ms\n",
            "97:\tlearn: 0.3707779\ttotal: 2.37s\tremaining: 48.3ms\n",
            "98:\tlearn: 0.3705508\ttotal: 2.39s\tremaining: 24.2ms\n",
            "99:\tlearn: 0.3703081\ttotal: 2.42s\tremaining: 0us\n",
            "Best parameters for XGBoost: {'learning_rate': 0.2, 'max_depth': 3, 'min_child_weight': 2, 'n_estimators': 200, 'subsample': 1.0}\n",
            "Best score for XGBoost: 0.8106131399696921\n",
            "Best parameters for Random Forest: {'max_depth': 2, 'min_samples_split': 2, 'n_estimators': 75}\n",
            "Best score for Random Forest: 0.7352626597499858\n",
            "Best parameters for CatBoost: {'iterations': 100, 'learning_rate': 0.1}\n",
            "Best score for CatBoost: 0.8111905647895477\n"
          ]
        }
      ]
    },
    {
      "cell_type": "code",
      "source": [
        "df_test = pd.read_csv('/content/drive/MyDrive/Colab Notebooks/testSpaceTitanic.csv')\n",
        "df_test1 = pd.read_csv('/content/drive/MyDrive/Colab Notebooks/testSpaceTitanic.csv')"
      ],
      "metadata": {
        "id": "rYBLmt7cwJwT"
      },
      "execution_count": 53,
      "outputs": []
    },
    {
      "cell_type": "code",
      "source": [
        "df_test['AmountSpent'] = df_test['RoomService'] + df_test['FoodCourt'] + df_test['ShoppingMall'] + df_test['Spa'] + df_test['VRDeck']\n",
        "df_test['WealthClass'] = df_test['AmountSpent'].apply(lambda x: 1 if x < 100 else 2 if x < 1000 else 3)\n",
        "df_test['SpentMoney'] = df_test['AmountSpent'] > 0\n",
        "df_test[['Deck', 'Num', 'Side']] = df_test['Cabin'].str.split('/', expand=True)\n",
        "df_test['HomeDestination'] = df_test['HomePlanet'] + df_test['Destination']\n",
        "df_test = df_test.drop(['PassengerId', 'Name', 'Cabin'], axis=1)"
      ],
      "metadata": {
        "id": "5CMmbN6BwpRz"
      },
      "execution_count": 54,
      "outputs": []
    },
    {
      "cell_type": "code",
      "source": [
        "df_preprocessed = preprocessor1.transform(df_test)"
      ],
      "metadata": {
        "id": "lWzHlm5TyLMQ"
      },
      "execution_count": 55,
      "outputs": []
    },
    {
      "cell_type": "code",
      "source": [
        "y_catb = catc_grid_search.predict(df_preprocessed)\n",
        "\n",
        "y_catb_out = df_test1[['PassengerId']]\n",
        "y_catb_out['Transported'] = y_catb\n",
        "y_catb_out.to_csv('submissionSpaceTitanicCAT.csv', index=False)\n",
        "\n",
        "y_xgb = xgb_grid_search.predict(df_preprocessed)\n",
        "\n",
        "y_xgb_out = df_test1[['PassengerId']]\n",
        "y_xgb_out['Transported'] = y_xgb\n",
        "y_xgb_out.to_csv('submissionSpaceTitanicXGB.csv', index=False)\n",
        "\n",
        "y_rfc = rfc_grid_search.predict(df_preprocessed)\n",
        "\n",
        "y_rfc_out = df_test1[['PassengerId']]\n",
        "y_rfc_out['Transported'] = y_rfc\n",
        "y_rfc_out.to_csv('submissionSpaceTitanicRFC.csv', index=False)"
      ],
      "metadata": {
        "id": "f9tAyPViyXNY",
        "colab": {
          "base_uri": "https://localhost:8080/"
        },
        "outputId": "ceeb76e6-d257-4f6e-903b-074d3c9898ff"
      },
      "execution_count": 56,
      "outputs": [
        {
          "output_type": "stream",
          "name": "stderr",
          "text": [
            "<ipython-input-56-09dae4448657>:4: SettingWithCopyWarning: \n",
            "A value is trying to be set on a copy of a slice from a DataFrame.\n",
            "Try using .loc[row_indexer,col_indexer] = value instead\n",
            "\n",
            "See the caveats in the documentation: https://pandas.pydata.org/pandas-docs/stable/user_guide/indexing.html#returning-a-view-versus-a-copy\n",
            "  y_catb_out['Transported'] = y_catb\n",
            "<ipython-input-56-09dae4448657>:10: SettingWithCopyWarning: \n",
            "A value is trying to be set on a copy of a slice from a DataFrame.\n",
            "Try using .loc[row_indexer,col_indexer] = value instead\n",
            "\n",
            "See the caveats in the documentation: https://pandas.pydata.org/pandas-docs/stable/user_guide/indexing.html#returning-a-view-versus-a-copy\n",
            "  y_xgb_out['Transported'] = y_xgb\n",
            "<ipython-input-56-09dae4448657>:16: SettingWithCopyWarning: \n",
            "A value is trying to be set on a copy of a slice from a DataFrame.\n",
            "Try using .loc[row_indexer,col_indexer] = value instead\n",
            "\n",
            "See the caveats in the documentation: https://pandas.pydata.org/pandas-docs/stable/user_guide/indexing.html#returning-a-view-versus-a-copy\n",
            "  y_rfc_out['Transported'] = y_rfc\n"
          ]
        }
      ]
    }
  ]
}